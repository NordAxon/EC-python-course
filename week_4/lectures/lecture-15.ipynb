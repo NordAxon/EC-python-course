{
 "cells": [
  {
   "cell_type": "code",
   "execution_count": 1,
   "id": "piano-finder",
   "metadata": {},
   "outputs": [],
   "source": [
    "import requests"
   ]
  },
  {
   "cell_type": "code",
   "execution_count": 5,
   "id": "flush-munich",
   "metadata": {},
   "outputs": [],
   "source": [
    "# Make sure the app is running in a terminal. \n",
    "# Start it with: python app.py \n",
    "app = 'http://localhost:8080'\n",
    "endpoint = app + '/users'"
   ]
  },
  {
   "cell_type": "markdown",
   "id": "intended-pottery",
   "metadata": {},
   "source": [
    "## Requests with python\n",
    "\n",
    "- Look at all of the methods: get, post, put and delete\n",
    "- Look at the response object\n",
    "    - Get status code\n",
    "    - Get the data from the response object\n",
    "    \n"
   ]
  },
  {
   "cell_type": "markdown",
   "id": "polar-gabriel",
   "metadata": {},
   "source": [
    "### Get"
   ]
  },
  {
   "cell_type": "code",
   "execution_count": 22,
   "id": "confident-claim",
   "metadata": {},
   "outputs": [
    {
     "data": {
      "text/plain": [
       "int"
      ]
     },
     "execution_count": 22,
     "metadata": {},
     "output_type": "execute_result"
    }
   ],
   "source": [
    "r = requests.get(url='http://www.google.com')\n",
    "r.status_code"
   ]
  },
  {
   "cell_type": "code",
   "execution_count": 15,
   "id": "macro-bachelor",
   "metadata": {},
   "outputs": [
    {
     "data": {
      "text/plain": [
       "{'123': 'Alex'}"
      ]
     },
     "execution_count": 15,
     "metadata": {},
     "output_type": "execute_result"
    }
   ],
   "source": [
    "r = requests.get(url=endpoint)\n",
    "r.json()\n"
   ]
  },
  {
   "cell_type": "markdown",
   "id": "limiting-reviewer",
   "metadata": {},
   "source": [
    "### POST\n",
    "\n",
    "- What happens if we change the data we send?"
   ]
  },
  {
   "cell_type": "code",
   "execution_count": 16,
   "id": "quiet-marker",
   "metadata": {},
   "outputs": [
    {
     "data": {
      "text/plain": [
       "<Response [200]>"
      ]
     },
     "execution_count": 16,
     "metadata": {},
     "output_type": "execute_result"
    }
   ],
   "source": [
    "new_user = {'user_id': '123', 'name':'Alex'}\n",
    "r = requests.post(url=endpoint, json=new_user)\n",
    "r"
   ]
  },
  {
   "cell_type": "markdown",
   "id": "eligible-future",
   "metadata": {},
   "source": [
    "### PUT\n",
    "\n",
    "- This method is used to update an existing user"
   ]
  },
  {
   "cell_type": "code",
   "execution_count": null,
   "id": "threaded-oakland",
   "metadata": {},
   "outputs": [],
   "source": []
  },
  {
   "cell_type": "markdown",
   "id": "funded-omaha",
   "metadata": {},
   "source": [
    "### DELETE"
   ]
  },
  {
   "cell_type": "code",
   "execution_count": null,
   "id": "variable-czech",
   "metadata": {},
   "outputs": [],
   "source": []
  },
  {
   "cell_type": "markdown",
   "id": "simplified-elephant",
   "metadata": {},
   "source": [
    "## Real data \n",
    "\n",
    "Now we will try to get real data from a"
   ]
  },
  {
   "cell_type": "code",
   "execution_count": 23,
   "id": "white-aruba",
   "metadata": {},
   "outputs": [],
   "source": [
    "r = requests.get('https://www.erikliljeroth.se/api/alldata')\n",
    "data = r.json()"
   ]
  },
  {
   "cell_type": "code",
   "execution_count": 27,
   "id": "handy-robinson",
   "metadata": {},
   "outputs": [
    {
     "data": {
      "text/plain": [
       "{'dtg': '2020-03-30 00:00:02',\n",
       " 'temperature': 2.43,\n",
       " 'humidity': 45.4,\n",
       " 'sensor_id': 949044086}"
      ]
     },
     "execution_count": 27,
     "metadata": {},
     "output_type": "execute_result"
    }
   ],
   "source": [
    "data[2]"
   ]
  },
  {
   "cell_type": "code",
   "execution_count": 28,
   "id": "local-spiritual",
   "metadata": {},
   "outputs": [],
   "source": [
    "import pandas as pd"
   ]
  },
  {
   "cell_type": "code",
   "execution_count": 29,
   "id": "widespread-cookie",
   "metadata": {},
   "outputs": [],
   "source": [
    "df = pd.DataFrame(data)"
   ]
  },
  {
   "cell_type": "code",
   "execution_count": 30,
   "id": "framed-renewal",
   "metadata": {},
   "outputs": [
    {
     "data": {
      "text/html": [
       "<div>\n",
       "<style scoped>\n",
       "    .dataframe tbody tr th:only-of-type {\n",
       "        vertical-align: middle;\n",
       "    }\n",
       "\n",
       "    .dataframe tbody tr th {\n",
       "        vertical-align: top;\n",
       "    }\n",
       "\n",
       "    .dataframe thead th {\n",
       "        text-align: right;\n",
       "    }\n",
       "</style>\n",
       "<table border=\"1\" class=\"dataframe\">\n",
       "  <thead>\n",
       "    <tr style=\"text-align: right;\">\n",
       "      <th></th>\n",
       "      <th>dtg</th>\n",
       "      <th>temperature</th>\n",
       "      <th>humidity</th>\n",
       "      <th>sensor_id</th>\n",
       "    </tr>\n",
       "  </thead>\n",
       "  <tbody>\n",
       "    <tr>\n",
       "      <th>0</th>\n",
       "      <td>2020-03-29 23:00:01</td>\n",
       "      <td>2.99</td>\n",
       "      <td>44.30</td>\n",
       "      <td>949044086</td>\n",
       "    </tr>\n",
       "    <tr>\n",
       "      <th>1</th>\n",
       "      <td>2020-03-29 23:30:02</td>\n",
       "      <td>2.49</td>\n",
       "      <td>45.72</td>\n",
       "      <td>949044086</td>\n",
       "    </tr>\n",
       "    <tr>\n",
       "      <th>2</th>\n",
       "      <td>2020-03-30 00:00:02</td>\n",
       "      <td>2.43</td>\n",
       "      <td>45.40</td>\n",
       "      <td>949044086</td>\n",
       "    </tr>\n",
       "    <tr>\n",
       "      <th>3</th>\n",
       "      <td>2020-03-30 00:30:02</td>\n",
       "      <td>2.52</td>\n",
       "      <td>48.45</td>\n",
       "      <td>949044086</td>\n",
       "    </tr>\n",
       "    <tr>\n",
       "      <th>4</th>\n",
       "      <td>2020-03-30 01:00:02</td>\n",
       "      <td>2.62</td>\n",
       "      <td>49.99</td>\n",
       "      <td>949044086</td>\n",
       "    </tr>\n",
       "  </tbody>\n",
       "</table>\n",
       "</div>"
      ],
      "text/plain": [
       "                   dtg  temperature  humidity  sensor_id\n",
       "0  2020-03-29 23:00:01         2.99     44.30  949044086\n",
       "1  2020-03-29 23:30:02         2.49     45.72  949044086\n",
       "2  2020-03-30 00:00:02         2.43     45.40  949044086\n",
       "3  2020-03-30 00:30:02         2.52     48.45  949044086\n",
       "4  2020-03-30 01:00:02         2.62     49.99  949044086"
      ]
     },
     "execution_count": 30,
     "metadata": {},
     "output_type": "execute_result"
    }
   ],
   "source": [
    "df.head()"
   ]
  },
  {
   "cell_type": "code",
   "execution_count": 33,
   "id": "intermediate-delicious",
   "metadata": {},
   "outputs": [
    {
     "data": {
      "text/plain": [
       "<AxesSubplot:>"
      ]
     },
     "execution_count": 33,
     "metadata": {},
     "output_type": "execute_result"
    },
    {
     "data": {
      "image/png": "[encoded data removed]",
      "text/plain": [
       "<Figure size 432x288 with 1 Axes>"
      ]
     },
     "metadata": {
      "needs_background": "light"
     },
     "output_type": "display_data"
    }
   ],
   "source": [
    "df['humidity'].plot()"
   ]
  },
  {
   "cell_type": "code",
   "execution_count": 37,
   "id": "standard-midwest",
   "metadata": {},
   "outputs": [],
   "source": [
    "sep = df['dtg'] > '2021-09-01 00:00:00'\n",
    "sep_df = df[sep]"
   ]
  },
  {
   "cell_type": "code",
   "execution_count": 38,
   "id": "certified-festival",
   "metadata": {},
   "outputs": [
    {
     "data": {
      "text/plain": [
       "<AxesSubplot:>"
      ]
     },
     "execution_count": 38,
     "metadata": {},
     "output_type": "execute_result"
    },
    {
     "data": {
      "image/png": "[encoded data removed]",
      "text/plain": [
       "<Figure size 432x288 with 1 Axes>"
      ]
     },
     "metadata": {
      "needs_background": "light"
     },
     "output_type": "display_data"
    }
   ],
   "source": [
    "sep_df['temperature'].plot()"
   ]
  },
  {
   "cell_type": "markdown",
   "id": "developed-american",
   "metadata": {},
   "source": [
    "# Pandas repetition"
   ]
  },
  {
   "cell_type": "code",
   "execution_count": 56,
   "id": "russian-appreciation",
   "metadata": {},
   "outputs": [
    {
     "data": {
      "text/html": [
       "<div>\n",
       "<style scoped>\n",
       "    .dataframe tbody tr th:only-of-type {\n",
       "        vertical-align: middle;\n",
       "    }\n",
       "\n",
       "    .dataframe tbody tr th {\n",
       "        vertical-align: top;\n",
       "    }\n",
       "\n",
       "    .dataframe thead th {\n",
       "        text-align: right;\n",
       "    }\n",
       "</style>\n",
       "<table border=\"1\" class=\"dataframe\">\n",
       "  <thead>\n",
       "    <tr style=\"text-align: right;\">\n",
       "      <th></th>\n",
       "      <th>#</th>\n",
       "      <th>Name</th>\n",
       "      <th>Type 1</th>\n",
       "      <th>Type 2</th>\n",
       "      <th>Total</th>\n",
       "      <th>HP</th>\n",
       "      <th>Attack</th>\n",
       "      <th>Defense</th>\n",
       "      <th>Sp. Atk</th>\n",
       "      <th>Sp. Def</th>\n",
       "      <th>Speed</th>\n",
       "      <th>Generation</th>\n",
       "      <th>Legendary</th>\n",
       "    </tr>\n",
       "  </thead>\n",
       "  <tbody>\n",
       "    <tr>\n",
       "      <th>0</th>\n",
       "      <td>1</td>\n",
       "      <td>Bulbasaur</td>\n",
       "      <td>Grass</td>\n",
       "      <td>Poison</td>\n",
       "      <td>318</td>\n",
       "      <td>45</td>\n",
       "      <td>49</td>\n",
       "      <td>49</td>\n",
       "      <td>65</td>\n",
       "      <td>65</td>\n",
       "      <td>45</td>\n",
       "      <td>1</td>\n",
       "      <td>False</td>\n",
       "    </tr>\n",
       "    <tr>\n",
       "      <th>1</th>\n",
       "      <td>2</td>\n",
       "      <td>Ivysaur</td>\n",
       "      <td>Grass</td>\n",
       "      <td>Poison</td>\n",
       "      <td>405</td>\n",
       "      <td>60</td>\n",
       "      <td>62</td>\n",
       "      <td>63</td>\n",
       "      <td>80</td>\n",
       "      <td>80</td>\n",
       "      <td>60</td>\n",
       "      <td>1</td>\n",
       "      <td>False</td>\n",
       "    </tr>\n",
       "    <tr>\n",
       "      <th>2</th>\n",
       "      <td>3</td>\n",
       "      <td>Venusaur</td>\n",
       "      <td>Grass</td>\n",
       "      <td>Poison</td>\n",
       "      <td>525</td>\n",
       "      <td>80</td>\n",
       "      <td>82</td>\n",
       "      <td>83</td>\n",
       "      <td>100</td>\n",
       "      <td>100</td>\n",
       "      <td>80</td>\n",
       "      <td>1</td>\n",
       "      <td>False</td>\n",
       "    </tr>\n",
       "    <tr>\n",
       "      <th>3</th>\n",
       "      <td>3</td>\n",
       "      <td>VenusaurMega Venusaur</td>\n",
       "      <td>Grass</td>\n",
       "      <td>Poison</td>\n",
       "      <td>625</td>\n",
       "      <td>80</td>\n",
       "      <td>100</td>\n",
       "      <td>123</td>\n",
       "      <td>122</td>\n",
       "      <td>120</td>\n",
       "      <td>80</td>\n",
       "      <td>1</td>\n",
       "      <td>False</td>\n",
       "    </tr>\n",
       "    <tr>\n",
       "      <th>4</th>\n",
       "      <td>4</td>\n",
       "      <td>Charmander</td>\n",
       "      <td>Fire</td>\n",
       "      <td>NaN</td>\n",
       "      <td>309</td>\n",
       "      <td>39</td>\n",
       "      <td>52</td>\n",
       "      <td>43</td>\n",
       "      <td>60</td>\n",
       "      <td>50</td>\n",
       "      <td>65</td>\n",
       "      <td>1</td>\n",
       "      <td>False</td>\n",
       "    </tr>\n",
       "  </tbody>\n",
       "</table>\n",
       "</div>"
      ],
      "text/plain": [
       "   #                   Name Type 1  Type 2  Total  HP  Attack  Defense  \\\n",
       "0  1              Bulbasaur  Grass  Poison    318  45      49       49   \n",
       "1  2                Ivysaur  Grass  Poison    405  60      62       63   \n",
       "2  3               Venusaur  Grass  Poison    525  80      82       83   \n",
       "3  3  VenusaurMega Venusaur  Grass  Poison    625  80     100      123   \n",
       "4  4             Charmander   Fire     NaN    309  39      52       43   \n",
       "\n",
       "   Sp. Atk  Sp. Def  Speed  Generation  Legendary  \n",
       "0       65       65     45           1      False  \n",
       "1       80       80     60           1      False  \n",
       "2      100      100     80           1      False  \n",
       "3      122      120     80           1      False  \n",
       "4       60       50     65           1      False  "
      ]
     },
     "execution_count": 56,
     "metadata": {},
     "output_type": "execute_result"
    }
   ],
   "source": [
    "import pandas as pd\n",
    "import seaborn as sns\n",
    "\n",
    "df = pd.read_csv(r'C:\\Users\\AlexanderHagelborn\\code\\ec-python-course\\week_3\\lectures\\Pokemon.csv')\n",
    "df.head()"
   ]
  },
  {
   "cell_type": "markdown",
   "id": "greek-madonna",
   "metadata": {},
   "source": [
    "## Using isin() to select rows based on values in a single column"
   ]
  },
  {
   "cell_type": "code",
   "execution_count": 70,
   "id": "complete-backing",
   "metadata": {},
   "outputs": [
    {
     "data": {
      "text/html": [
       "<div>\n",
       "<style scoped>\n",
       "    .dataframe tbody tr th:only-of-type {\n",
       "        vertical-align: middle;\n",
       "    }\n",
       "\n",
       "    .dataframe tbody tr th {\n",
       "        vertical-align: top;\n",
       "    }\n",
       "\n",
       "    .dataframe thead th {\n",
       "        text-align: right;\n",
       "    }\n",
       "</style>\n",
       "<table border=\"1\" class=\"dataframe\">\n",
       "  <thead>\n",
       "    <tr style=\"text-align: right;\">\n",
       "      <th></th>\n",
       "      <th>Name</th>\n",
       "      <th>Attack</th>\n",
       "      <th>Defense</th>\n",
       "      <th>Speed</th>\n",
       "    </tr>\n",
       "  </thead>\n",
       "  <tbody>\n",
       "    <tr>\n",
       "      <th>0</th>\n",
       "      <td>Bulbasaur</td>\n",
       "      <td>49</td>\n",
       "      <td>49</td>\n",
       "      <td>45</td>\n",
       "    </tr>\n",
       "    <tr>\n",
       "      <th>4</th>\n",
       "      <td>Charmander</td>\n",
       "      <td>52</td>\n",
       "      <td>43</td>\n",
       "      <td>65</td>\n",
       "    </tr>\n",
       "    <tr>\n",
       "      <th>9</th>\n",
       "      <td>Squirtle</td>\n",
       "      <td>48</td>\n",
       "      <td>65</td>\n",
       "      <td>43</td>\n",
       "    </tr>\n",
       "  </tbody>\n",
       "</table>\n",
       "</div>"
      ],
      "text/plain": [
       "         Name  Attack  Defense  Speed\n",
       "0   Bulbasaur      49       49     45\n",
       "4  Charmander      52       43     65\n",
       "9    Squirtle      48       65     43"
      ]
     },
     "execution_count": 70,
     "metadata": {},
     "output_type": "execute_result"
    }
   ],
   "source": [
    "mask = df['Name'].isin(['Bulbasaur', 'Charmander', 'Squirtle'])\n",
    "sub = df[mask][['Name', 'Attack', 'Defense', 'Speed']]\n",
    "sub"
   ]
  },
  {
   "cell_type": "markdown",
   "id": "magnetic-burden",
   "metadata": {},
   "source": [
    "## Plot data comparison"
   ]
  },
  {
   "cell_type": "code",
   "execution_count": 74,
   "id": "figured-virtue",
   "metadata": {},
   "outputs": [
    {
     "name": "stdout",
     "output_type": "stream",
     "text": [
      "         Name variable  value\n",
      "0   Bulbasaur   Attack     49\n",
      "1  Charmander   Attack     52\n",
      "2    Squirtle   Attack     48\n",
      "3   Bulbasaur  Defense     49\n",
      "4  Charmander  Defense     43\n",
      "5    Squirtle  Defense     65\n",
      "6   Bulbasaur    Speed     45\n",
      "7  Charmander    Speed     65\n",
      "8    Squirtle    Speed     43\n"
     ]
    },
    {
     "data": {
      "text/plain": [
       "<AxesSubplot:xlabel='variable', ylabel='value'>"
      ]
     },
     "execution_count": 74,
     "metadata": {},
     "output_type": "execute_result"
    },
    {
     "data": {
      "image/png": "[encoded data removed]",
      "text/plain": [
       "<Figure size 432x288 with 1 Axes>"
      ]
     },
     "metadata": {
      "needs_background": "light"
     },
     "output_type": "display_data"
    }
   ],
   "source": [
    "melt = sub.melt(id_vars='Name')\n",
    "print(melt)\n",
    "sns.barplot(x='variable', y = 'value', hue='Name' ,data = melt)\n"
   ]
  },
  {
   "cell_type": "code",
   "execution_count": 75,
   "id": "convenient-analyst",
   "metadata": {},
   "outputs": [
    {
     "data": {
      "text/plain": [
       "pandas.core.frame.DataFrame"
      ]
     },
     "execution_count": 75,
     "metadata": {},
     "output_type": "execute_result"
    }
   ],
   "source": [
    "type(melt)"
   ]
  },
  {
   "cell_type": "code",
   "execution_count": null,
   "id": "hairy-publicity",
   "metadata": {},
   "outputs": [],
   "source": []
  }
 ],
 "metadata": {
  "kernelspec": {
   "display_name": "Python 3",
   "language": "python",
   "name": "python3"
  },
  "language_info": {
   "codemirror_mode": {
    "name": "ipython",
    "version": 3
   },
   "file_extension": ".py",
   "mimetype": "text/x-python",
   "name": "python",
   "nbconvert_exporter": "python",
   "pygments_lexer": "ipython3",
   "version": "3.8.5"
  }
 },
 "nbformat": 4,
 "nbformat_minor": 5
}
