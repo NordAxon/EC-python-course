{
 "cells": [
  {
   "cell_type": "code",
   "execution_count": 6,
   "source": [
    "# What do we do when we are not sure how to solve something?\r\n",
    "# We google! Always, always google. \r\n",
    "\r\n",
    "\r\n",
    "# The data types that we will work with the most are these:\r\n",
    "one_int = 1\r\n",
    "one_float = 1.0\r\n",
    "one_string = \"Hello World\""
   ],
   "outputs": [
    {
     "output_type": "stream",
     "name": "stdout",
     "text": [
      "[2, 3, 4, 5, 6, 7, 8, 9, 10]\n"
     ]
    }
   ],
   "metadata": {}
  },
  {
   "cell_type": "code",
   "execution_count": null,
   "source": [
    "# The data structures we will work with the most are\r\n",
    "one_list = [1, \"hej\"]\r\n",
    "\r\n",
    "one_dict = {\"hej\": 1, \"då\": 2}\r\n",
    "\r\n",
    "number_list = [1,2,3,4,5,6,7,8,9]"
   ],
   "outputs": [],
   "metadata": {}
  },
  {
   "cell_type": "code",
   "execution_count": null,
   "source": [
    "# The conditional statements we will work the most with are\r\n",
    "\r\n",
    "# For-range loops\r\n",
    "for i in range(len(number_list)):\r\n",
    "    number_list[i] += 1\r\n",
    "\r\n",
    "print(number_list)"
   ],
   "outputs": [],
   "metadata": {}
  },
  {
   "cell_type": "code",
   "execution_count": 7,
   "source": [
    "# For-each loops\r\n",
    "for number in number_list:\r\n",
    "    number = number + 1\r\n",
    "\r\n",
    "print(number_list)\r\n",
    "print(number)"
   ],
   "outputs": [
    {
     "output_type": "stream",
     "name": "stdout",
     "text": [
      "[2, 3, 4, 5, 6, 7, 8, 9, 10]\n",
      "11\n"
     ]
    }
   ],
   "metadata": {}
  },
  {
   "cell_type": "code",
   "execution_count": 12,
   "source": [
    "# if-else statements\r\n",
    "\r\n",
    "if number > 20:\r\n",
    "    print(\"more than 20\")\r\n",
    "else:\r\n",
    "    print(\"less than 20\")"
   ],
   "outputs": [
    {
     "output_type": "stream",
     "name": "stdout",
     "text": [
      "no\n"
     ]
    }
   ],
   "metadata": {}
  },
  {
   "cell_type": "code",
   "execution_count": 14,
   "source": [
    "# and try-except statements\r\n",
    "try:\r\n",
    "    variable = int(\"hello there\")\r\n",
    "except ValueError:\r\n",
    "    print(\"You can't do that\")"
   ],
   "outputs": [
    {
     "output_type": "error",
     "ename": "ValueError",
     "evalue": "invalid literal for int() with base 10: 'hello there'",
     "traceback": [
      "\u001b[1;31m---------------------------------------------------------------------------\u001b[0m",
      "\u001b[1;31mValueError\u001b[0m                                Traceback (most recent call last)",
      "\u001b[1;32m<ipython-input-14-c94724b9253d>\u001b[0m in \u001b[0;36m<module>\u001b[1;34m\u001b[0m\n\u001b[0;32m      1\u001b[0m \u001b[1;31m# and try-except statements\u001b[0m\u001b[1;33m\u001b[0m\u001b[1;33m\u001b[0m\u001b[1;33m\u001b[0m\u001b[0m\n\u001b[1;32m----> 2\u001b[1;33m \u001b[0mvariable\u001b[0m \u001b[1;33m=\u001b[0m \u001b[0mint\u001b[0m\u001b[1;33m(\u001b[0m\u001b[1;34m\"hello there\"\u001b[0m\u001b[1;33m)\u001b[0m\u001b[1;33m\u001b[0m\u001b[1;33m\u001b[0m\u001b[0m\n\u001b[0m\u001b[0;32m      3\u001b[0m \u001b[1;33m\u001b[0m\u001b[0m\n",
      "\u001b[1;31mValueError\u001b[0m: invalid literal for int() with base 10: 'hello there'"
     ]
    }
   ],
   "metadata": {}
  },
  {
   "cell_type": "code",
   "execution_count": 9,
   "source": [
    "# Iterating over dictionaries requires us to call certain methods to reach the \r\n",
    "# entries in the dictionary\r\n",
    "\r\n",
    "# If we want both keys and values, we use .items()\r\n",
    "for key, value in one_dict.items(): \r\n",
    "    print(value, key)\r\n",
    "\r\n",
    "# If we want only keys, we use .keys()\r\n",
    "for key in one_dict.keys():\r\n",
    "    print(key)\r\n",
    "\r\n",
    "# If we want only values, we use .values()\r\n",
    "for value in one_dict.values():\r\n",
    "    print(value)\r\n",
    "\r\n",
    "# If we for some reason need to call several items in a for-loop, but don't\r\n",
    "# intend to use them all, we put a _ for the items we will not use in the loop \r\n",
    "for _, value in one_dict.items():\r\n",
    "    print(value)"
   ],
   "outputs": [
    {
     "output_type": "stream",
     "name": "stdout",
     "text": [
      "1 hej\n",
      "2 då\n"
     ]
    }
   ],
   "metadata": {}
  },
  {
   "cell_type": "code",
   "execution_count": 11,
   "source": [
    "my_name = \"isabella\"\r\n",
    "\r\n",
    "for i in my_name:\r\n",
    "    print(i)"
   ],
   "outputs": [
    {
     "output_type": "stream",
     "name": "stdout",
     "text": [
      "i\n",
      "s\n",
      "a\n",
      "b\n",
      "e\n",
      "l\n",
      "l\n",
      "a\n",
      "l\n"
     ]
    }
   ],
   "metadata": {}
  },
  {
   "cell_type": "code",
   "execution_count": null,
   "source": [
    "print(my_name[-2])"
   ],
   "outputs": [],
   "metadata": {}
  }
 ],
 "metadata": {
  "orig_nbformat": 4,
  "language_info": {
   "name": "python",
   "version": "3.8.10",
   "mimetype": "text/x-python",
   "codemirror_mode": {
    "name": "ipython",
    "version": 3
   },
   "pygments_lexer": "ipython3",
   "nbconvert_exporter": "python",
   "file_extension": ".py"
  },
  "kernelspec": {
   "name": "python3",
   "display_name": "Python 3.8.10 64-bit ('ec-python-course': conda)"
  },
  "interpreter": {
   "hash": "49725ab178c4c102e1441d76205f429a43d78f45cae77ce22318dfb9d7e7bd6b"
  }
 },
 "nbformat": 4,
 "nbformat_minor": 2
}