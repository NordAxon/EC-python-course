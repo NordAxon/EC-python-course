{
 "cells": [
  {
   "cell_type": "code",
   "execution_count": 6,
   "source": [
    "# Alright, yesterday we created a script which contained a method to manipulate\r\n",
    "# strings (first name and surname). Say that we would like to use that method\r\n",
    "# again, what do we do?\r\n",
    "\r\n",
    "# Well, we can copy paste the entire method into this notebook and go ahead\r\n",
    "# but that means that we have the exact same code in the same place, and that\r\n",
    "# is..... unnecessary!\r\n",
    "\r\n",
    "# We can IMPORT the method from the file we created yesterday!\r\n",
    "\r\n",
    "from lecture_5 import change_name_representation\r\n",
    "\r\n",
    "change_name_representation(\"isabella\", \"gagner\", True)"
   ],
   "outputs": [
    {
     "output_type": "execute_result",
     "data": {
      "text/plain": [
       "('ISABELLA', 'GAGNER')"
      ]
     },
     "metadata": {},
     "execution_count": 6
    }
   ],
   "metadata": {}
  },
  {
   "cell_type": "code",
   "execution_count": 5,
   "source": [
    "import lecture_5\r\n",
    "\r\n",
    "lecture_5.change_name_representation(\"isabella\", \"gagner\", False)"
   ],
   "outputs": [
    {
     "output_type": "stream",
     "name": "stdout",
     "text": [
      "Isabella Gagner\n"
     ]
    },
    {
     "output_type": "execute_result",
     "data": {
      "text/plain": [
       "('Isabella', 'Gagner')"
      ]
     },
     "metadata": {},
     "execution_count": 5
    }
   ],
   "metadata": {}
  },
  {
   "cell_type": "code",
   "execution_count": null,
   "source": [],
   "outputs": [],
   "metadata": {}
  }
 ],
 "metadata": {
  "orig_nbformat": 4,
  "language_info": {
   "name": "python",
   "version": "3.8.10",
   "mimetype": "text/x-python",
   "codemirror_mode": {
    "name": "ipython",
    "version": 3
   },
   "pygments_lexer": "ipython3",
   "nbconvert_exporter": "python",
   "file_extension": ".py"
  },
  "kernelspec": {
   "name": "python3",
   "display_name": "Python 3.8.10 64-bit ('ec-python-course': conda)"
  },
  "interpreter": {
   "hash": "49725ab178c4c102e1441d76205f429a43d78f45cae77ce22318dfb9d7e7bd6b"
  }
 },
 "nbformat": 4,
 "nbformat_minor": 2
}