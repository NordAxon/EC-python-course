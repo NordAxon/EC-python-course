{
 "cells": [
  {
   "cell_type": "code",
   "execution_count": 11,
   "source": [
    "from collections import defaultdict\r\n",
    "\r\n",
    "counting = defaultdict(int)\r\n",
    "counting[\"one\"] += 1\r\n",
    "\r\n",
    "adding = defaultdict(float)\r\n",
    "adding[\"3.5\"] = \"hello\"\r\n",
    "print(adding)\r\n",
    "\r\n",
    "listing = defaultdict(list)\r\n",
    "listing[\"list\"].append(2)\r\n",
    "print(listing)"
   ],
   "outputs": [
    {
     "output_type": "stream",
     "name": "stdout",
     "text": [
      "defaultdict(<class 'float'>, {'3.5': 'hello'})\n",
      "defaultdict(<class 'list'>, {'list': [2]})\n"
     ]
    }
   ],
   "metadata": {}
  },
  {
   "cell_type": "code",
   "execution_count": 8,
   "source": [
    "# So what about f-strings? What is this?\r\n",
    "\r\n",
    "# Back in the day, we could print like this\r\n",
    "first_name = \"isabella\"\r\n",
    "last_name = \"gagner\"\r\n",
    "print(\"My name is\", first_name, last_name)\r\n",
    "#or define strings like this\r\n",
    "my_name = \"My name is \" + first_name + \" \" + last_name\r\n",
    "print(my_name)\r\n",
    "\r\n",
    "# then came the %-formatting, which made this a little nicer\r\n",
    "my_name = \"My name is %s %s\" % (first_name, last_name)\r\n",
    "print(my_name)\r\n",
    "# But the %-formatting isnt great when we have lots of strings to add together:\r\n",
    "my_company = \"Nordaxon\"\r\n",
    "my_title = \"programmer\"\r\n",
    "my_education = \"M.Sc. engineering physics\"\r\n",
    "my_info = \"My name is %s %s and I work at %s as a %s, but I studied %s\" % (first_name, last_name, my_company, my_title, my_education)\r\n",
    "print(my_info)\r\n",
    "\r\n",
    "# THEN came string.format()\r\n",
    "my_info = \"My name is {1} {0} and I work at {2} as a {4}, but I studied {3}\".format(last_name, first_name, my_company, my_education, my_title)\r\n",
    "print(my_info)\r\n",
    "# Still not so readable code though, right?\r\n",
    "# We can make it a little better though, by using dictionaries\r\n",
    "\r\n",
    "me_myself_i = {\"first_name\": \"isabella\", \"last_name\": \"gagner\", \"company\": \"NordAxon\"}\r\n",
    "my_info = \"My name is {first_name} {last_name} and I work at {my_company}.\".format(last_name = me_myself_i[\"last_name\"], first_name = me_myself_i[\"first_name\"], my_company = me_myself_i[\"company\"])\r\n",
    "print(my_info)\r\n",
    "\r\n",
    "# AND THEN came f-strings:\r\n",
    "my_info = f\"My name is {first_name} {last_name} and I work at {my_company}!!\"\r\n",
    "print(my_info)"
   ],
   "outputs": [
    {
     "output_type": "stream",
     "name": "stdout",
     "text": [
      "My name is isabella gagner\n",
      "My name is isabella gagner\n",
      "My name is isabella gagner\n",
      "My name is isabella gagner and I work at Nordaxon as a programmer, but I studied M.Sc. engineering physics\n",
      "My name is isabella gagner and I work at Nordaxon as a programmer, but I studied M.Sc. engineering physics\n",
      "My name is isabella gagner and I work at NordAxon.\n",
      "My name is isabella gagner and I work at Nordaxon!!\n"
     ]
    }
   ],
   "metadata": {}
  },
  {
   "cell_type": "code",
   "execution_count": 6,
   "source": [
    "# Alright, this morning we created a script which contained a method to manipulate\r\n",
    "# strings (first name and surname). Say that we would like to use that method\r\n",
    "# again, what do we do?\r\n",
    "\r\n",
    "# Well, we can copy paste the entire method into this notebook and go ahead\r\n",
    "# but that means that we have the exact same code in the same place, and that\r\n",
    "# is..... unnecessary!\r\n",
    "\r\n",
    "# We can IMPORT the method from the file we created!\r\n",
    "\r\n",
    "from lecture_5 import change_name_representation\r\n",
    "\r\n",
    "change_name_representation(\"isabella\", \"gagner\", True)"
   ],
   "outputs": [
    {
     "output_type": "execute_result",
     "data": {
      "text/plain": [
       "('ISABELLA', 'GAGNER')"
      ]
     },
     "metadata": {},
     "execution_count": 6
    }
   ],
   "metadata": {}
  },
  {
   "cell_type": "code",
   "execution_count": 5,
   "source": [
    "import lecture_5\r\n",
    "\r\n",
    "lecture_5.change_name_representation(\"isabella\", \"gagner\", False)"
   ],
   "outputs": [
    {
     "output_type": "stream",
     "name": "stdout",
     "text": [
      "Isabella Gagner\n"
     ]
    },
    {
     "output_type": "execute_result",
     "data": {
      "text/plain": [
       "('Isabella', 'Gagner')"
      ]
     },
     "metadata": {},
     "execution_count": 5
    }
   ],
   "metadata": {}
  },
  {
   "cell_type": "code",
   "execution_count": null,
   "source": [
    "a_bool = False\r\n",
    "\r\n"
   ],
   "outputs": [],
   "metadata": {}
  }
 ],
 "metadata": {
  "orig_nbformat": 4,
  "language_info": {
   "name": "python",
   "version": "3.8.10",
   "mimetype": "text/x-python",
   "codemirror_mode": {
    "name": "ipython",
    "version": 3
   },
   "pygments_lexer": "ipython3",
   "nbconvert_exporter": "python",
   "file_extension": ".py"
  },
  "kernelspec": {
   "name": "python3",
   "display_name": "Python 3.8.10 64-bit ('ec-python-course': conda)"
  },
  "interpreter": {
   "hash": "49725ab178c4c102e1441d76205f429a43d78f45cae77ce22318dfb9d7e7bd6b"
  }
 },
 "nbformat": 4,
 "nbformat_minor": 2
}