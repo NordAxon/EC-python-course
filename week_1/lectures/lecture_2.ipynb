{
 "metadata": {
  "language_info": {
   "codemirror_mode": {
    "name": "ipython",
    "version": 3
   },
   "file_extension": ".py",
   "mimetype": "text/x-python",
   "name": "python",
   "nbconvert_exporter": "python",
   "pygments_lexer": "ipython3",
   "version": "3.8.10"
  },
  "orig_nbformat": 4,
  "kernelspec": {
   "name": "python3",
   "display_name": "Python 3.8.10 64-bit ('ec-python-course': conda)"
  },
  "interpreter": {
   "hash": "49725ab178c4c102e1441d76205f429a43d78f45cae77ce22318dfb9d7e7bd6b"
  }
 },
 "nbformat": 4,
 "nbformat_minor": 2,
 "cells": [
  {
   "source": [
    "## Content\n",
    "- jupyter notebooks\n",
    "- commenting away code\n",
    "- hello world\n",
    "- printing\n",
    "- int\n",
    "- float\n",
    "- string\n",
    "- casting\n",
    "- list\n",
    "- tuples\n",
    "- dict\n"
   ],
   "cell_type": "markdown",
   "metadata": {}
  },
  {
   "cell_type": "code",
   "execution_count": null,
   "metadata": {},
   "outputs": [],
   "source": [
    "print(\"hello world\")"
   ]
  },
  {
   "cell_type": "code",
   "execution_count": null,
   "metadata": {},
   "outputs": [],
   "source": [
    "my_name_is = \"isabella\"\n",
    "print(my_name_is)\n",
    "#print(type(my_name_is))"
   ]
  },
  {
   "cell_type": "code",
   "execution_count": null,
   "metadata": {},
   "outputs": [],
   "source": [
    "a = 6\n",
    "b = 3\n",
    "a**b\n"
   ]
  },
  {
   "cell_type": "code",
   "execution_count": null,
   "metadata": {},
   "outputs": [],
   "source": [
    "print(\"6^3 =\", a**b, \"and 3^6 =\", b**a)"
   ]
  },
  {
   "cell_type": "code",
   "execution_count": null,
   "metadata": {},
   "outputs": [],
   "source": [
    "c = a/b\n",
    "print(c)"
   ]
  },
  {
   "cell_type": "code",
   "execution_count": null,
   "metadata": {},
   "outputs": [],
   "source": [
    "c = a//b\n",
    "print(c)"
   ]
  },
  {
   "cell_type": "code",
   "execution_count": null,
   "metadata": {},
   "outputs": [],
   "source": [
    "print(type(a), type(c))"
   ]
  },
  {
   "cell_type": "code",
   "execution_count": null,
   "metadata": {},
   "outputs": [],
   "source": [
    "# How do you make an integer to a float or a float to an integer or a string to an integer or an integer to a string?? We use something called casting!\n",
    "a = float(a)\n",
    "print(type(a))"
   ]
  },
  {
   "cell_type": "code",
   "execution_count": null,
   "metadata": {},
   "outputs": [],
   "source": [
    "# Set a variable d as 2.3. When casting this to an integer, we would probably like it to be rounded to 2\n",
    "d = 2.3\n",
    "d = int(d)\n",
    "print(d, type(d))"
   ]
  },
  {
   "cell_type": "code",
   "execution_count": null,
   "metadata": {},
   "outputs": [],
   "source": [
    "# Now, if d = 2.6, we would probably want it to be rounded upwards, to 3. Let's try that.\n",
    "d = 2.6\n",
    "d = int(d)\n",
    "print(d, type(d))"
   ]
  },
  {
   "cell_type": "code",
   "execution_count": null,
   "metadata": {},
   "outputs": [],
   "source": [
    "# Alright, so we see that the casting to int is actually doing what we call \"flooring\" - it always casts to the lesser integer. So what do we do? We use another function.\n",
    "d = 2.99999999\n",
    "d = round(d)\n",
    "print(d, type(d))"
   ]
  },
  {
   "cell_type": "code",
   "execution_count": null,
   "metadata": {},
   "outputs": [],
   "source": [
    "# Now let's look at casting between string and float/integer\n",
    "a = \"6\"\n",
    "b = \"3\"\n",
    "\n",
    "# Doing the mathematical operation division on strings creates...\n",
    "a/b"
   ]
  },
  {
   "cell_type": "code",
   "execution_count": null,
   "metadata": {},
   "outputs": [],
   "source": [
    "# .. an error. So we need to start by casting our variables to ints or floats for the arithmetic to work\r\n",
    "int(a)/int(b)"
   ]
  },
  {
   "cell_type": "code",
   "execution_count": null,
   "metadata": {},
   "outputs": [],
   "source": [
    "# and it yet again gives us a float. So, if we want it to be an int, let's go one step further:\n",
    "int(int(a)/int(b))"
   ]
  },
  {
   "cell_type": "code",
   "execution_count": null,
   "metadata": {},
   "outputs": [],
   "source": [
    "# but let us not write code like that. It is not very easy to read, and thus it is bad. Code needs to be easy to understand.\n",
    "# In this case, it would be better to make sure that the variables a and b are ints from start"
   ]
  },
  {
   "cell_type": "code",
   "execution_count": null,
   "metadata": {},
   "outputs": [],
   "source": [
    "# Casting our variable c to an int does not work directly either..\n",
    "c = \"2.0\"\n",
    "int(c)"
   ]
  },
  {
   "cell_type": "code",
   "execution_count": null,
   "metadata": {},
   "outputs": [],
   "source": [
    "# which means that we will need to cast it to float, and to int after that if we really need it to be an integer\n",
    "float(c)\n",
    "int(float(c))"
   ]
  },
  {
   "source": [
    "### Recap:\n",
    "- int = integer\n",
    "- float = floating number = decimals are allowed\n",
    "- string = essentially text, which means that all types of symbols can be included in a string. A string is characterized by the signs: \" or '\n"
   ],
   "cell_type": "markdown",
   "metadata": {}
  },
  {
   "source": [
    "# Now we would like to save several variables together, in a list. Lists are good for many cases, let's start with the heights of 7 persons\n",
    "# NOTE that we should always use variable names that describe the variable - otherwise reading the code gets harder\n",
    "heights = [1.78, 1.65, 1.55, 1.89, 1.73, 1.91, 1.95]"
   ],
   "cell_type": "code",
   "metadata": {},
   "execution_count": null,
   "outputs": []
  },
  {
   "cell_type": "code",
   "execution_count": null,
   "metadata": {},
   "outputs": [],
   "source": [
    "# There are some basic operations we can do on a list, for example get the number of entries in it:\n",
    "heights_len = len(heights)\n",
    "heights_len"
   ]
  },
  {
   "cell_type": "code",
   "execution_count": null,
   "metadata": {},
   "outputs": [],
   "source": [
    "# We can also pick out certain entries to use\n",
    "last_height = heights[7]"
   ]
  },
  {
   "cell_type": "code",
   "execution_count": null,
   "metadata": {},
   "outputs": [],
   "source": [
    "# This is because index starts at 0!!\n",
    "last_height = heights[6]\n",
    "last_height = heights[-1]"
   ]
  },
  {
   "cell_type": "code",
   "execution_count": null,
   "metadata": {},
   "outputs": [],
   "source": [
    "# Say that we would like to get the mean value of the heights - we can use functions from a helper package called Numpy. Numpy will soon be your best friend, it has a lot of nice features and functions!\n",
    "import numpy as np\n",
    "mean_value_heights = np.mean(heights)\n",
    "mean_value_heights"
   ]
  },
  {
   "cell_type": "code",
   "execution_count": null,
   "metadata": {},
   "outputs": [],
   "source": [
    "# What if we remove one value and add another? How will that affect the mean value?\n",
    "print(heights)\n",
    "\n",
    "heights.remove(1.78) # We remove the entry where the value corresponds to 1.78\n",
    "print(heights)\n",
    "\n",
    "heights.append(1.99) # We add 1.99 to the end of the list\n",
    "print(heights)\n",
    "\n",
    "updated_mean_value = np.mean(heights) # And find the new mean value\n",
    "print(updated_mean_value)"
   ]
  },
  {
   "source": [
    "### Recap:\n",
    "- Lists are great when we want to structure our data points in an easily managable way\n",
    "- One list value is called a _list entry_\n",
    "- In Python, lists can be comprised of several data types - it is possible to have a list with both strings, integers, lists, tuples as entries\n",
    "- Index starts at 0\n",
    "- Lists can be changed - they are muteable"
   ],
   "cell_type": "markdown",
   "metadata": {}
  },
  {
   "cell_type": "code",
   "execution_count": null,
   "metadata": {},
   "outputs": [],
   "source": [
    "# Sometimes it can come in handy to save data in what we call tuples, where we want to pair certain data points together and when we are sure that we will not need to alter them\n",
    "# Tuples are immutable lists, often with length 2 (although we can make them as long as we wish)\n",
    "class_heights = [(\"person1\", 1.78), (\"person2\", 1.65), (\"person3\", 1.55), (\"person4\", 1.89)]"
   ]
  },
  {
   "cell_type": "code",
   "execution_count": null,
   "metadata": {},
   "outputs": [],
   "source": [
    "class_heights[0]"
   ]
  },
  {
   "cell_type": "code",
   "execution_count": null,
   "metadata": {},
   "outputs": [],
   "source": [
    "class_heights[0][0]"
   ]
  },
  {
   "cell_type": "code",
   "execution_count": null,
   "metadata": {},
   "outputs": [],
   "source": [
    "class_heights[0][1]"
   ]
  },
  {
   "cell_type": "code",
   "execution_count": null,
   "metadata": {},
   "outputs": [],
   "source": [
    "# Another, similar data type is dictionary\n",
    "# We use dictionaries when we want to pair information in a way that makes it easily found! Just like a dictionary, we can find information by looking it up.\n",
    "class_heights = {\"person1\": 1.78, \"person2\": 1.65, \"person3\": 1.55, \"person4\": 1.89}\n",
    "class_heights[\"person1\"]"
   ]
  },
  {
   "cell_type": "code",
   "execution_count": null,
   "metadata": {},
   "outputs": [],
   "source": [
    "class_heights.items()"
   ]
  },
  {
   "cell_type": "code",
   "execution_count": null,
   "metadata": {},
   "outputs": [],
   "source": [
    "class_heights.keys()"
   ]
  },
  {
   "cell_type": "code",
   "execution_count": null,
   "metadata": {},
   "outputs": [],
   "source": [
    "class_heights.values()"
   ]
  },
  {
   "cell_type": "code",
   "execution_count": null,
   "metadata": {},
   "outputs": [],
   "source": [
    "class_heights[\"person5\"] = 1.77"
   ]
  },
  {
   "source": [
    "### Recap:\n",
    "- Tuples can be seen as a type of list, that are usually no longer than 3 entries and that are immutable\n",
    "- Immutable means that once we have set the values, we can only access them but not change them - we would need to create new tuples to change something\n",
    "- Dictionaries are similar to lists and tuples, but instead of having to deal with indices, we can look information up in an easier way, using descriptive variables\n",
    "- In a dictionary, we use curly brackets and we call the entries key-value pairs. dict = {key: value, key: value}\n",
    "- A dictionary is unordered - the order of the items are not of importance"
   ],
   "cell_type": "markdown",
   "metadata": {}
  }
 ]
}