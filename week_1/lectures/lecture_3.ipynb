{
 "metadata": {
  "language_info": {
   "codemirror_mode": {
    "name": "ipython",
    "version": 3
   },
   "file_extension": ".py",
   "mimetype": "text/x-python",
   "name": "python",
   "nbconvert_exporter": "python",
   "pygments_lexer": "ipython3",
   "version": "3.8.10"
  },
  "orig_nbformat": 4,
  "kernelspec": {
   "name": "python3",
   "display_name": "Python 3.8.10 64-bit ('ec-python-course': conda)"
  },
  "interpreter": {
   "hash": "49725ab178c4c102e1441d76205f429a43d78f45cae77ce22318dfb9d7e7bd6b"
  }
 },
 "nbformat": 4,
 "nbformat_minor": 2,
 "cells": [
  {
   "cell_type": "markdown",
   "source": [
    "## Content\n",
    "- if-else statements\n",
    "- for-each loop\n",
    "- for range loop\n",
    "- while loops\n",
    "- operators\n",
    "- try-except statements\n"
   ],
   "metadata": {}
  },
  {
   "cell_type": "code",
   "execution_count": null,
   "source": [
    "# To get input from the user:\r\n",
    "input()"
   ],
   "outputs": [],
   "metadata": {}
  },
  {
   "cell_type": "code",
   "execution_count": null,
   "source": [
    "import numpy as np\r\n",
    "# Arrays vs lists in python:\r\n",
    "lisst = [1,2,3,4, \"hej\"]\r\n",
    "array = np.array([1,2,3,4])"
   ],
   "outputs": [],
   "metadata": {}
  },
  {
   "cell_type": "code",
   "execution_count": 19,
   "source": [
    "# Let's look a bit closer at how if-else statements work. These are conditional, and makes it possible for us to \r\n",
    "# pick and choose items from a list, based on our condition(s)\r\n",
    "\r\n",
    "# We start with some lists comprised of different types of fruits and vegetables\r\n",
    "fruits = [\"apple\", \"banana\", \"pear\", \"dragon fruit\", \"orange\", \"tomato\"]\r\n",
    "vegetables = [\"cucumber\", \"green salad\", \"fennel\", \"garlic\", \"onion\", \"squash\"]"
   ],
   "outputs": [],
   "metadata": {}
  },
  {
   "cell_type": "markdown",
   "source": [
    "### If-else statements"
   ],
   "metadata": {}
  },
  {
   "cell_type": "code",
   "execution_count": 27,
   "source": [
    "# Now let's see if we can make som logic using these lists\r\n",
    "\r\n",
    "item = \"pak choi\" # <--- change to whatever you wish to test here\r\n",
    "if item in fruits:\r\n",
    "    print(item, \"is a fruit\") # <--- if the value of item is in the fruit list, we will print it as a fruit!\r\n",
    "elif item in vegetables:\r\n",
    "    print(item, \"is a vegetable\") # <---- and if it was a vegetable, we print it as a vegetable\r\n",
    "else:\r\n",
    "    print(\"I don't know what\", item, \"is\") # <---- otherwise, we do not know what it is\r\n",
    "\r\n",
    "\r\n",
    "# Beware to use lowercase and spaces to make the item match one of the lists - what happens if item = \"Apple\", or item = \"banana \"?"
   ],
   "outputs": [
    {
     "output_type": "stream",
     "name": "stdout",
     "text": [
      "I don't know what pak choi is\n"
     ]
    }
   ],
   "metadata": {}
  },
  {
   "cell_type": "markdown",
   "source": [
    "### For-each loop (+ if else)"
   ],
   "metadata": {}
  },
  {
   "cell_type": "code",
   "execution_count": 20,
   "source": [
    "#Now say that I have an entire list of mixed fruits and vegetables\r\n",
    "\r\n",
    "my_fridge = [\"apple\", \"tomato\", \"green salad\", \"garlic\", \"banana\"]\r\n",
    "\r\n",
    "# Let's say I'd like to know how many fruits and vegetables I have in my list my_fridge\r\n",
    "# I start counting at 0, and thus set 2 variables as 0:\r\n",
    "number_of_fruits = 0\r\n",
    "number_of_vegetables = 0\r\n",
    "\r\n",
    "# Now, for each item in my fridge, I will check if the item is a fruit or a vegetable, by comparing the item with the lists\r\n",
    "for item in my_fridge:\r\n",
    "     if item in fruits: # <---- if the item name is in the fruit list, I have a fruit!\r\n",
    "        number_of_fruits += 1 # <---- I increment the number of fruits by one. I can also write number_of_fruits = number_of_fruits + 1\r\n",
    "    elif item in vegetables: # <----- if the item was not in the fruit list, but in the vegetable list, I have a vegetable\r\n",
    "        number_of_vegetables += 1 # <---- and that makes me increment the number of vegetables\r\n",
    "\r\n",
    "print(number_of_fruits, number_of_vegetables)"
   ],
   "outputs": [
    {
     "output_type": "error",
     "ename": "IndentationError",
     "evalue": "unindent does not match any outer indentation level (<tokenize>, line 10)",
     "traceback": [
      "\u001b[1;36m  File \u001b[1;32m\"<tokenize>\"\u001b[1;36m, line \u001b[1;32m10\u001b[0m\n\u001b[1;33m    elif item in vegetables: # <----- if the item was not in the fruit list, but in the vegetable list, I have a vegetable\u001b[0m\n\u001b[1;37m    ^\u001b[0m\n\u001b[1;31mIndentationError\u001b[0m\u001b[1;31m:\u001b[0m unindent does not match any outer indentation level\n"
     ]
    }
   ],
   "metadata": {}
  },
  {
   "cell_type": "code",
   "execution_count": 22,
   "source": [
    "# Oop! Something was wrong with the indentations in my block. Remember that each indentation should be comprised of exactly 4 spaces! Make sure it is correct:\r\n",
    "number_of_fruits = 0\r\n",
    "number_of_vegetables = 0\r\n",
    "for item in my_fridge:\r\n",
    "    if item in fruits:\r\n",
    "        number_of_fruits += 1\r\n",
    "    if item in vegetables:\r\n",
    "        number_of_vegetables += 1\r\n",
    "\r\n",
    "print(number_of_fruits, number_of_vegetables)"
   ],
   "outputs": [
    {
     "output_type": "stream",
     "name": "stdout",
     "text": [
      "3 2\n"
     ]
    }
   ],
   "metadata": {}
  },
  {
   "cell_type": "markdown",
   "source": [
    "### For-range loop"
   ],
   "metadata": {}
  },
  {
   "cell_type": "code",
   "execution_count": 28,
   "source": [
    "# Let's look at another type of for-loop\n",
    "for i in range(10):\n",
    "    print(i)"
   ],
   "outputs": [
    {
     "output_type": "stream",
     "name": "stdout",
     "text": [
      "0\n",
      "1\n",
      "2\n",
      "3\n",
      "4\n",
      "5\n",
      "6\n",
      "7\n",
      "8\n",
      "9\n"
     ]
    }
   ],
   "metadata": {}
  },
  {
   "cell_type": "code",
   "execution_count": 31,
   "source": [
    "# Yet again we start at 0 and end at 9! Just like when we were working with the indices of the lists yesterday\n",
    "x = 7\n",
    "for i in range(15):\n",
    "    if i < x:\n",
    "        print(\"not yet\")\n",
    "    elif i == x:\n",
    "        print(\"NOW\")\n",
    "    elif i > x:\n",
    "        print(\"too late\")\n",
    "    else:\n",
    "        print(\"this should not be possible\")"
   ],
   "outputs": [
    {
     "output_type": "stream",
     "name": "stdout",
     "text": [
      "not yet\n",
      "not yet\n",
      "not yet\n",
      "not yet\n",
      "not yet\n",
      "not yet\n",
      "not yet\n",
      "NOW\n",
      "too late\n",
      "too late\n",
      "too late\n",
      "too late\n",
      "too late\n",
      "too late\n",
      "too late\n"
     ]
    }
   ],
   "metadata": {}
  },
  {
   "cell_type": "code",
   "execution_count": 33,
   "source": [
    "# That the range()-function starts at 0 makes it easy for us to iterate over lists using the indices instead of the items.\n",
    "# These two for-loops are equivalent. Depending on what you wish to do with your list, you may need to keep track of the index as well as the list entry - that is\n",
    "# when you use \"for i in range(number)\". When you only need to access and modify the entries, you can use the for-each loop \"for x in list_name\"\n",
    "print(len(my_fridge))\n",
    "\n",
    "for i in range(len(my_fridge)):\n",
    "    print(my_fridge[i])\n",
    "\n",
    "for item in my_fridge:\n",
    "    print(item)"
   ],
   "outputs": [
    {
     "output_type": "stream",
     "name": "stdout",
     "text": [
      "5\n",
      "apple\n",
      "tomato\n",
      "green salad\n",
      "garlic\n",
      "banana\n",
      "apple\n",
      "tomato\n",
      "green salad\n",
      "garlic\n",
      "banana\n"
     ]
    }
   ],
   "metadata": {}
  },
  {
   "cell_type": "markdown",
   "source": [
    "### while-loop"
   ],
   "metadata": {}
  },
  {
   "cell_type": "code",
   "execution_count": 36,
   "source": [
    "# When we have something we would like to do while some condition is true, we can use a while loop\n",
    "# A while-loop will continue as long as the condition is true, so beware!\n",
    "i = 1\n",
    "while i < 6:\n",
    "  print(i)\n",
    "  if i == 4:\n",
    "    break\n",
    "  i += 1\n",
    "\n",
    "# Fortunately, we can use the break statement in case there are some special conditions that should break it!"
   ],
   "outputs": [
    {
     "output_type": "stream",
     "name": "stdout",
     "text": [
      "1\n",
      "2\n"
     ]
    }
   ],
   "metadata": {}
  },
  {
   "cell_type": "markdown",
   "source": [
    "### Operators"
   ],
   "metadata": {}
  },
  {
   "cell_type": "code",
   "execution_count": 65,
   "source": [
    "# To make more intricate conditions, we can use different operators\n",
    "# Here are some examples of how we can compare different items using different operators\n",
    "a = 5\n",
    "b = 4\n",
    "c = 5"
   ],
   "outputs": [],
   "metadata": {}
  },
  {
   "cell_type": "code",
   "execution_count": 45,
   "source": [
    "print(a == b) # == is equal to\n",
    "print(a == c)\n",
    "print(a < b) # a is smaller than (less than) b\n",
    "print(a > b) # a is bigger than (greater than) b\n",
    "print(a >= b) # a is bigger than, or equal to, b\n",
    "print(a >= c) # a is bigger than, or equal to, c\n",
    "print(c <= b) # c is smaller than, or equal to, b"
   ],
   "outputs": [
    {
     "output_type": "stream",
     "name": "stdout",
     "text": [
      "False\n",
      "True\n",
      "False\n",
      "True\n",
      "True\n",
      "True\n",
      "False\n"
     ]
    }
   ],
   "metadata": {}
  },
  {
   "cell_type": "code",
   "execution_count": 73,
   "source": [
    "# And these operators we can use, together with the words \"and\", \"or\" and \"not\", to chain together several conditions\n",
    "a = 15\n",
    "b = 14\n",
    "if a > 10 and b < 20:\n",
    "    print(\"hooray\")\n",
    "\n",
    "if a > 10 and not b < 20:\n",
    "    print(\"hello\")\n",
    "\n",
    "if a < 10 or b > 10:\n",
    "    print(\"hooray!\")"
   ],
   "outputs": [
    {
     "output_type": "stream",
     "name": "stdout",
     "text": [
      "hooray\n",
      "hooray!\n"
     ]
    }
   ],
   "metadata": {}
  },
  {
   "cell_type": "code",
   "execution_count": 46,
   "source": [
    "# We can use the word \"in\" to see if an element is in a list or not\n",
    "1 in [1,2,3]"
   ],
   "outputs": [
    {
     "output_type": "execute_result",
     "data": {
      "text/plain": [
       "True"
      ]
     },
     "metadata": {},
     "execution_count": 46
    }
   ],
   "metadata": {}
  },
  {
   "cell_type": "code",
   "execution_count": 49,
   "source": [
    "# And speaking of comparing lists... here is a special case of comparing lists:\n",
    "a = [4, 5, 6]\n",
    "b = [4, 5, 6]\n",
    "print(a == b) # <---- this means that the values in the lists are identical\n",
    "print(a is b) # <--- this essentially means that they are not the same list, even though they look the same"
   ],
   "outputs": [
    {
     "output_type": "stream",
     "name": "stdout",
     "text": [
      "True\n",
      "False\n"
     ]
    }
   ],
   "metadata": {}
  },
  {
   "cell_type": "code",
   "execution_count": 69,
   "source": [
    "a  = [1, 2, 3]\n",
    "b = a\n",
    "print(a == b)\n",
    "print(a is b) # <--- now they are the same list! since b is pointing to a, they are the same object"
   ],
   "outputs": [],
   "metadata": {}
  },
  {
   "cell_type": "markdown",
   "source": [
    "### Try-except"
   ],
   "metadata": {}
  },
  {
   "cell_type": "code",
   "execution_count": 75,
   "source": [
    "# Let's say that we are cleaning up some data for it to be used in analysis later on. We start by casting all points to ints\n",
    "# For the sake of the argument, we pretend that this list is so long that we cannot manually go through all elements\n",
    "\n",
    "corrupted_list_of_ints = [\"1\", \"2\", \"a\", \"3\"]\n",
    "\n",
    "cleaned_list_of_ints = []\n",
    "for entry in corrupted_list_of_ints:\n",
    "    cleaned_entry = int(entry)\n",
    "    cleaned_list_of_ints.append(cleaned_entry)\n",
    "# hmmmmmmm that did not work as we thought - we cannot cast a letter to an int!"
   ],
   "outputs": [
    {
     "output_type": "error",
     "ename": "ValueError",
     "evalue": "invalid literal for int() with base 10: 'a'",
     "traceback": [
      "\u001b[1;31m---------------------------------------------------------------------------\u001b[0m",
      "\u001b[1;31mValueError\u001b[0m                                Traceback (most recent call last)",
      "\u001b[1;32m<ipython-input-75-14959b96082c>\u001b[0m in \u001b[0;36m<module>\u001b[1;34m\u001b[0m\n\u001b[0;32m      3\u001b[0m \u001b[0mcleaned_list_of_ints\u001b[0m \u001b[1;33m=\u001b[0m \u001b[1;33m[\u001b[0m\u001b[1;33m]\u001b[0m\u001b[1;33m\u001b[0m\u001b[1;33m\u001b[0m\u001b[0m\n\u001b[0;32m      4\u001b[0m \u001b[1;32mfor\u001b[0m \u001b[0mentry\u001b[0m \u001b[1;32min\u001b[0m \u001b[0mcorrupted_list_of_ints\u001b[0m\u001b[1;33m:\u001b[0m\u001b[1;33m\u001b[0m\u001b[1;33m\u001b[0m\u001b[0m\n\u001b[1;32m----> 5\u001b[1;33m     \u001b[0mcleaned_entry\u001b[0m \u001b[1;33m=\u001b[0m \u001b[0mint\u001b[0m\u001b[1;33m(\u001b[0m\u001b[0mentry\u001b[0m\u001b[1;33m)\u001b[0m\u001b[1;33m\u001b[0m\u001b[1;33m\u001b[0m\u001b[0m\n\u001b[0m\u001b[0;32m      6\u001b[0m     \u001b[0mcleaned_list_of_ints\u001b[0m\u001b[1;33m.\u001b[0m\u001b[0mappend\u001b[0m\u001b[1;33m(\u001b[0m\u001b[0mcleaned_entry\u001b[0m\u001b[1;33m)\u001b[0m\u001b[1;33m\u001b[0m\u001b[1;33m\u001b[0m\u001b[0m\n",
      "\u001b[1;31mValueError\u001b[0m: invalid literal for int() with base 10: 'a'"
     ]
    }
   ],
   "metadata": {}
  },
  {
   "cell_type": "code",
   "execution_count": 78,
   "source": [
    "# that means that we need to handle our error, and we do that by using a try-except statement:\r\n",
    "\r\n",
    "corrupted_list_of_ints = [\"1\", \"2\", \"a\", \"3\"]\r\n",
    "cleaned_list_of_ints = []\r\n",
    "for entry in corrupted_list_of_ints:\r\n",
    "    try:\r\n",
    "        cleaned_entry = int(entry)\r\n",
    "        cleaned_list_of_ints.append(cleaned_entry)\r\n",
    "    except ValueError: # <--- always specify the error that you are catching, otherwise you may catch another error and by doing that you hide bugs from yourself!\r\n",
    "        print(\"faulty value encountered - ignoring and continuing\")\r\n",
    "\r\n",
    "\r\n",
    "print(cleaned_list_of_ints)\r\n",
    "\r\n",
    "\r\n",
    "\r\n",
    "\r\n"
   ],
   "outputs": [
    {
     "output_type": "stream",
     "name": "stdout",
     "text": [
      "faulty value encountered - ignoring and continuing\n",
      "[1, 2, 3]\n"
     ]
    }
   ],
   "metadata": {}
  },
  {
   "cell_type": "code",
   "execution_count": null,
   "source": [],
   "outputs": [],
   "metadata": {}
  }
 ]
}