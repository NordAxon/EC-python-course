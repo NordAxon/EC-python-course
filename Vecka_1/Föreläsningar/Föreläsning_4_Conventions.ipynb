{
 "cells": [
  {
   "cell_type": "markdown",
   "source": [
    "# Conventions\r\n",
    "\r\n",
    "### In this section, we will go through some of the conventions when it comes to coding in Python\r\n",
    "\r\n",
    "### You will be introduced to more conventions as the course is moving forward\r\n",
    "\r\n",
    "#### How these conventions are used are all shown in the Föreläsning_4.py script\r\n",
    "\r\n",
    "## After this lecture, you should read the PEP8 summaries, found at https://www.python.org/dev/peps/pep-0008/"
   ],
   "metadata": {}
  },
  {
   "cell_type": "markdown",
   "source": [
    "# - When we name variables, we choose descriptive names and use snake_case"
   ],
   "metadata": {}
  },
  {
   "cell_type": "code",
   "execution_count": null,
   "source": [
    "# When writing code, one of the main things with Python as a language, is that it needs to be readable\r\n",
    "# What does readable mean?\r\n",
    "\r\n",
    "q = [\"apple\", \"banana\", \"pear\", \"dragon fruit\", \"orange\", \"tomato\"]\r\n",
    "m = [\"cucumber\", \"green salad\", \"fennel\", \"garlic\", \"onion\", \"squash\"]\r\n",
    "s = [\"apple\", \"tomato\", \"green salad\", \"garlic\", \"banana\"]\r\n",
    "\r\n",
    "j =0\r\n",
    "l = 0\r\n",
    "for a in range(5):\r\n",
    "    if s[a] in q:\r\n",
    "        j += 1\r\n",
    "    elif s[a] in m:\r\n",
    "        l += 1\r\n",
    "\r\n",
    "print(j, l)\r\n",
    "# Is it easy to see what the code does? Are the variable names descriptive? Not really..."
   ],
   "outputs": [],
   "metadata": {}
  },
  {
   "cell_type": "code",
   "execution_count": null,
   "source": [
    "fruits = [\"apple\", \"banana\", \"pear\", \"dragon fruit\", \"orange\", \"tomato\"]\r\n",
    "vegetables = [\"cucumber\", \"green salad\", \"fennel\", \"garlic\", \"onion\", \"squash\"]\r\n",
    "my_fridge = [\"apple\", \"tomato\", \"green salad\", \"garlic\", \"banana\"]\r\n",
    "\r\n",
    "number_of_fruits = 0\r\n",
    "number_of_vegetables = 0\r\n",
    "for item in my_fridge:\r\n",
    "    if item in fruits:\r\n",
    "        number_of_fruits += 1\r\n",
    "    if item in vegetables:\r\n",
    "        number_of_vegetables += 1"
   ],
   "outputs": [],
   "metadata": {}
  },
  {
   "cell_type": "markdown",
   "source": [
    "# - When we use indentations, each indentation level is comprised of exactly 4 spaces. We do *NOT* use tabs."
   ],
   "metadata": {}
  },
  {
   "cell_type": "code",
   "execution_count": null,
   "source": [
    "for i in range(1):\r\n",
    "    print(\"This is 4 spaces\")"
   ],
   "outputs": [],
   "metadata": {}
  },
  {
   "cell_type": "markdown",
   "source": [
    "# - In .py scripts, we use main methods"
   ],
   "metadata": {}
  },
  {
   "cell_type": "code",
   "execution_count": null,
   "source": [
    "def main():\r\n",
    "    print(\"This method name should always be main, and it should always be called from the if-statement like so\")\r\n",
    "\r\n",
    "if __name__ == \"__main__\":\r\n",
    "    main()"
   ],
   "outputs": [],
   "metadata": {}
  },
  {
   "cell_type": "markdown",
   "source": [
    "# - When we write functions, we use type hints according to the standard introduced with Python 3.5 and onwards "
   ],
   "metadata": {}
  },
  {
   "cell_type": "code",
   "execution_count": null,
   "source": [
    "def some_method_with_args(one_string: str, one_int: int) -> list:\r\n",
    "    mixed_list = [one_string, one_int]\r\n",
    "    return mixed_list\r\n",
    "\r\n",
    "some_method_with_args(\"hello\", 1)"
   ],
   "outputs": [],
   "metadata": {}
  },
  {
   "cell_type": "markdown",
   "source": [
    "# - When we write functions, we make sure that each function has a docstring that is up-to-date with how the code is working"
   ],
   "metadata": {}
  },
  {
   "cell_type": "code",
   "execution_count": 11,
   "source": [
    "def some_method_with_args(one_string: str, one_int: int) -> list:\r\n",
    "    \"\"\"This is a method that takes two inputs and concatenates them into a mixed list\r\n",
    "\r\n",
    "    Args:\r\n",
    "        one_string (str): The string that is first in the list\r\n",
    "        one_int (int): The integer value that is last in the list\r\n",
    "\r\n",
    "    Returns:\r\n",
    "        list: A list of the inputs\r\n",
    "    \"\"\"\r\n",
    "    \r\n",
    "    mixed_list = [one_string, one_int]\r\n",
    "    return mixed_list\r\n",
    "\r\n",
    "some_method_with_args(\"hello\", 1)\r\n",
    "\r\n",
    "# If you are using VSCode, there are extensions to generate half a docstring automatically!\r\n",
    "# I use this one: njpwerner.autodocstring"
   ],
   "outputs": [
    {
     "output_type": "execute_result",
     "data": {
      "text/plain": [
       "['hello', 1]"
      ]
     },
     "metadata": {},
     "execution_count": 11
    }
   ],
   "metadata": {}
  },
  {
   "cell_type": "markdown",
   "source": [
    "# - When we catch exceptions we always specify the exeption that we intend to catch!"
   ],
   "metadata": {}
  },
  {
   "cell_type": "code",
   "execution_count": null,
   "source": [
    "def string_comparison_method(first_string: str, second_string: str):\r\n",
    "    \"\"\" This is a string that explains what the method does. It is called docstring.\r\n",
    "    In this method we compare two strings to see if the content is the same\r\n",
    "    \"\"\"\r\n",
    "    try:\r\n",
    "        if first_string.lower() == second_string.lower():\r\n",
    "            print(\"The strings are saying the same thing! :)\")\r\n",
    "        else:\r\n",
    "            print(\"The strings are not saying the same thing.. :(\")\r\n",
    "    except AttributeError: # <------------------------------------------- like this!\r\n",
    "        print(\"Hmm, one of your entries were not a string at all :(\")"
   ],
   "outputs": [],
   "metadata": {}
  }
 ],
 "metadata": {
  "orig_nbformat": 4,
  "language_info": {
   "name": "python",
   "version": "3.8.10",
   "mimetype": "text/x-python",
   "codemirror_mode": {
    "name": "ipython",
    "version": 3
   },
   "pygments_lexer": "ipython3",
   "nbconvert_exporter": "python",
   "file_extension": ".py"
  },
  "kernelspec": {
   "name": "python3",
   "display_name": "Python 3.8.10 64-bit ('ec-python-course': conda)"
  },
  "interpreter": {
   "hash": "49725ab178c4c102e1441d76205f429a43d78f45cae77ce22318dfb9d7e7bd6b"
  }
 },
 "nbformat": 4,
 "nbformat_minor": 2
}