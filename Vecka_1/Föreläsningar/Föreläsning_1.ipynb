{
 "metadata": {
  "language_info": {
   "codemirror_mode": {
    "name": "ipython",
    "version": 3
   },
   "file_extension": ".py",
   "mimetype": "text/x-python",
   "name": "python",
   "nbconvert_exporter": "python",
   "pygments_lexer": "ipython3",
   "version": "3.8.10"
  },
  "orig_nbformat": 4,
  "kernelspec": {
   "name": "python3",
   "display_name": "Python 3.8.10 64-bit ('ec-python-course': conda)"
  },
  "interpreter": {
   "hash": "49725ab178c4c102e1441d76205f429a43d78f45cae77ce22318dfb9d7e7bd6b"
  }
 },
 "nbformat": 4,
 "nbformat_minor": 2,
 "cells": [
  {
   "source": [
    "## Innehåll\n",
    "- jupyter notebooks\n",
    "- commenting away code\n",
    "- hello world\n",
    "- printing\n",
    "- int\n",
    "- float\n",
    "- string\n",
    "- casting\n",
    "- list\n",
    "- dict\n",
    "- pandas\n",
    "- matrices\n",
    "- tuples\n"
   ],
   "cell_type": "markdown",
   "metadata": {}
  },
  {
   "cell_type": "code",
   "execution_count": null,
   "metadata": {},
   "outputs": [],
   "source": [
    "print(\"hello world\")"
   ]
  },
  {
   "cell_type": "code",
   "execution_count": null,
   "metadata": {},
   "outputs": [],
   "source": [
    "my_name_is = \"isabella\"\n",
    "print(my_name_is)\n",
    "#print(type(my_name_is))"
   ]
  },
  {
   "cell_type": "code",
   "execution_count": null,
   "metadata": {},
   "outputs": [],
   "source": [
    "a = 6\n",
    "b = 3\n",
    "a**b\n"
   ]
  },
  {
   "cell_type": "code",
   "execution_count": null,
   "metadata": {},
   "outputs": [],
   "source": [
    "print(\"6^3 =\", a**b, \"and 3^6 =\", b**a)"
   ]
  },
  {
   "cell_type": "code",
   "execution_count": null,
   "metadata": {},
   "outputs": [],
   "source": [
    "c = a/b\n",
    "print(c)"
   ]
  },
  {
   "cell_type": "code",
   "execution_count": null,
   "metadata": {},
   "outputs": [],
   "source": [
    "print(type(a), type(c))"
   ]
  },
  {
   "cell_type": "code",
   "execution_count": null,
   "metadata": {},
   "outputs": [],
   "source": [
    "# How do you make an integer to a float or a float to an integer or a string to an integer or an integer to a string?? We use something called casting!\n",
    "a = float(a)\n",
    "print(type(a))"
   ]
  },
  {
   "cell_type": "code",
   "execution_count": null,
   "metadata": {},
   "outputs": [],
   "source": [
    "# Set a variable d as 2.3. When casting this to an integer, we would probably like it to be rounded to 2\n",
    "d = 2.3\n",
    "d = int(d)\n",
    "print(d, type(d))"
   ]
  },
  {
   "cell_type": "code",
   "execution_count": null,
   "metadata": {},
   "outputs": [],
   "source": [
    "# Now, if d = 2.6, we would probably want it to be rounded upwards, to 3. Let's try that.\n",
    "d = 2.6\n",
    "d = int(d)\n",
    "print(d, type(d))"
   ]
  },
  {
   "cell_type": "code",
   "execution_count": null,
   "metadata": {},
   "outputs": [],
   "source": [
    "# Alright, so we see that the casting to int is actually doing what we call \"flooring\" - it always casts to the lesser integer. So what do we do? We use another function.\n",
    "d = 2.99999999\n",
    "d = round(d)\n",
    "print(d, type(d))"
   ]
  },
  {
   "cell_type": "code",
   "execution_count": null,
   "metadata": {},
   "outputs": [],
   "source": [
    "# Now let's look at casting between string and float/integer\n",
    "a = \"6\"\n",
    "b = \"3\"\n",
    "\n",
    "# Doing the mathematical operation division on strings creates...\n",
    "a/b"
   ]
  },
  {
   "cell_type": "code",
   "execution_count": null,
   "metadata": {},
   "outputs": [],
   "source": [
    "# .. an error. So we need to start by casting our variables to ints or floats for the arithmetic to work\r\n",
    "int(a)/int(b)"
   ]
  },
  {
   "cell_type": "code",
   "execution_count": null,
   "metadata": {},
   "outputs": [],
   "source": [
    "# and it yet again gives us a float. So, if we want it to be an int, let's go one step further:\n",
    "int(int(a)/int(b))"
   ]
  },
  {
   "cell_type": "code",
   "execution_count": null,
   "metadata": {},
   "outputs": [],
   "source": [
    "# but let us not write code like that. It is not very easy to read, and thus it is bad. Code needs to be easy to understand."
   ]
  },
  {
   "cell_type": "code",
   "execution_count": null,
   "metadata": {},
   "outputs": [],
   "source": [
    "# Casting our variable c to an int does not work directly either..\n",
    "c = \"2.0\"\n",
    "int(c)"
   ]
  },
  {
   "cell_type": "code",
   "execution_count": null,
   "metadata": {},
   "outputs": [],
   "source": [
    "# which means that we will need to cast it to float, and to int after that if we really need it to be an integer\n",
    "float(c)\n",
    "int(float(c))"
   ]
  },
  {
   "source": [
    "### Recap:\n",
    "- int = integer\n",
    "- float = floating number = decimals are allowed\n",
    "- string = essentially text, which means that all types of symbols can be included in a string. A string is characterized by the signs: \" or '\n"
   ],
   "cell_type": "markdown",
   "metadata": {}
  },
  {
   "source": [],
   "cell_type": "code",
   "metadata": {},
   "execution_count": null,
   "outputs": []
  }
 ]
}