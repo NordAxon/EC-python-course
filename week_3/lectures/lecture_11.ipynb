{
 "cells": [
  {
   "cell_type": "markdown",
   "id": "bound-religious",
   "metadata": {},
   "source": [
    "# Exceptions, errors and stack trace\n",
    "\n",
    "Debugging in VScode\n",
    "\n",
    "- "
   ]
  },
  {
   "cell_type": "code",
   "execution_count": null,
   "id": "conscious-automation",
   "metadata": {},
   "outputs": [],
   "source": [
    "try:\n",
    "    # Koden här körs alltid\n",
    "    \n",
    "except:\n",
    "    # Om python stötte på errors under try\n",
    "    # så kommer koden här att köras\n",
    "    \n",
    "try:\n",
    "    # kod\n",
    "\n",
    "except NameError as e:\n",
    "    # Här fångar vi endast NameError\n",
    "    # och vi printar den utan att programmet avslutas\n",
    "    print(e)"
   ]
  }
 ],
 "metadata": {
  "kernelspec": {
   "display_name": "testenv",
   "language": "python",
   "name": "testenv"
  },
  "language_info": {
   "codemirror_mode": {
    "name": "ipython",
    "version": 3
   },
   "file_extension": ".py",
   "mimetype": "text/x-python",
   "name": "python",
   "nbconvert_exporter": "python",
   "pygments_lexer": "ipython3",
   "version": "3.8.5"
  }
 },
 "nbformat": 4,
 "nbformat_minor": 5
}
