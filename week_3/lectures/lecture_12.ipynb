{
 "cells": [
  {
   "cell_type": "markdown",
   "id": "urban-witch",
   "metadata": {},
   "source": [
    "# Pytest\n"
   ]
  },
  {
   "cell_type": "code",
   "execution_count": null,
   "id": "chinese-excerpt",
   "metadata": {},
   "outputs": [],
   "source": []
  }
 ],
 "metadata": {
  "kernelspec": {
   "display_name": "testenv",
   "language": "python",
   "name": "testenv"
  },
  "language_info": {
   "codemirror_mode": {
    "name": "ipython",
    "version": 3
   },
   "file_extension": ".py",
   "mimetype": "text/x-python",
   "name": "python",
   "nbconvert_exporter": "python",
   "pygments_lexer": "ipython3",
   "version": "3.8.5"
  }
 },
 "nbformat": 4,
 "nbformat_minor": 5
}
