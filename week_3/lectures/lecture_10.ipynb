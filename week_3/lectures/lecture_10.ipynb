{
 "cells": [
  {
   "cell_type": "markdown",
   "id": "normal-combat",
   "metadata": {},
   "source": [
    "# Classes in python\n",
    "\n",
    "1. Write a simple class Thing\n",
    "    - Set attributes\n",
    "    - Write a public method \n",
    "    - Write a 'private' method\n",
    "    - Use self as reference\n",
    "2. Inspect class from outside\n",
    "3. Write a class Animal\n",
    "4. Write a subclass tamagotchi\n",
    "    - Use super\n",
    "    - override a method\n",
    "    - methods: play, is_hungry, give_food\n",
    "5. Why OOP? Write a simple tamagochi program based on\n",
    "    a). the class\n",
    "    b). no class\n",
    "6. @staticmethod listanimals"
   ]
  },
  {
   "cell_type": "code",
   "execution_count": 2,
   "id": "sharing-wells",
   "metadata": {},
   "outputs": [],
   "source": [
    "class Thing():\n",
    "    \n",
    "    def __init__(self, param1, param2):\n",
    "        \"\"\" This is the initializer of the class \"\"\"\n",
    "        self.attribute1 = param1\n",
    "        self.attribute2 = param2\n",
    "        \n",
    "    def public_func(self):\n",
    "    \n",
    "        return\n",
    "    \n",
    "    def _private_func(self):\n",
    "        \n",
    "        return\n",
    "    \n"
   ]
  },
  {
   "cell_type": "markdown",
   "id": "extra-princess",
   "metadata": {},
   "source": [
    "## Inspect an object from the outside\n",
    "\n",
    "- type()\n",
    "- isinstance()\n",
    "- dir()"
   ]
  },
  {
   "cell_type": "code",
   "execution_count": 4,
   "id": "portuguese-infrastructure",
   "metadata": {},
   "outputs": [
    {
     "data": {
      "text/plain": [
       "True"
      ]
     },
     "execution_count": 4,
     "metadata": {},
     "output_type": "execute_result"
    }
   ],
   "source": [
    "t = Thing('hello', 5) # This is an instance of the class thing\n",
    "isinstance(t, Thing)"
   ]
  },
  {
   "cell_type": "markdown",
   "id": "wicked-pioneer",
   "metadata": {},
   "source": [
    "## Writing a class Animal\n",
    "\n",
    "Attributes:\n",
    "- species: str\n",
    "- energy: int\n",
    "\n",
    "Methods:\n",
    "- make_noise\n",
    "- _sleep\n",
    "\n"
   ]
  },
  {
   "cell_type": "code",
   "execution_count": 21,
   "id": "variable-width",
   "metadata": {},
   "outputs": [],
   "source": [
    "class Animal:\n",
    "    \n",
    "    def __init__(self, species):\n",
    "        self.species = species\n",
    "        self.energy = 5\n",
    "      \n",
    "    \n",
    "    def make_noise(self):\n",
    "        self.energy -= 1\n",
    "        print('Bork bork')\n",
    "        \n",
    "        \n",
    "    def _sleep(self):\n",
    "        self.energy += 3\n",
    "        \n",
    "a = Animal(species='tiger')"
   ]
  },
  {
   "cell_type": "code",
   "execution_count": 22,
   "id": "cellular-democrat",
   "metadata": {},
   "outputs": [
    {
     "data": {
      "text/plain": [
       "['__class__',\n",
       " '__delattr__',\n",
       " '__dict__',\n",
       " '__dir__',\n",
       " '__doc__',\n",
       " '__eq__',\n",
       " '__format__',\n",
       " '__ge__',\n",
       " '__getattribute__',\n",
       " '__gt__',\n",
       " '__hash__',\n",
       " '__init__',\n",
       " '__init_subclass__',\n",
       " '__le__',\n",
       " '__lt__',\n",
       " '__module__',\n",
       " '__ne__',\n",
       " '__new__',\n",
       " '__reduce__',\n",
       " '__reduce_ex__',\n",
       " '__repr__',\n",
       " '__setattr__',\n",
       " '__sizeof__',\n",
       " '__str__',\n",
       " '__subclasshook__',\n",
       " '__weakref__',\n",
       " '_sleep',\n",
       " 'energy',\n",
       " 'make_noise',\n",
       " 'species']"
      ]
     },
     "execution_count": 22,
     "metadata": {},
     "output_type": "execute_result"
    }
   ],
   "source": [
    "a.energy\n",
    "dir(a)"
   ]
  },
  {
   "cell_type": "markdown",
   "id": "continuous-muscle",
   "metadata": {},
   "source": [
    "## Write a subclass tamagotchi \n",
    "\n",
    "- Use super\n",
    "- override a method\n",
    "- methods: play, is_hungry, give_food\n",
    "\n",
    "Write a subclass tamagotchi\n",
    "Use super\n",
    "override a method\n",
    "methods: play, is_hungry, give_food"
   ]
  },
  {
   "cell_type": "code",
   "execution_count": 23,
   "id": "seeing-sacrifice",
   "metadata": {},
   "outputs": [],
   "source": [
    "class Tamagotchi(Animal):\n",
    "    \n",
    "    def __init__(self):\n",
    "        super().__init__(species='tamagotchi')\n",
    "        self.energy = 7\n",
    "        self.is_alive = True\n",
    "    \n",
    "    \n",
    "    def make_noise(self):\n",
    "        self.energy -= 1\n",
    "    \n",
    "    \n",
    "    def is_hungry(self):\n",
    "        if self.energy < 3:\n",
    "            return True\n",
    "        else:\n",
    "            return False\n",
    "    \n",
    "    \n",
    "    def give_food(self):\n",
    "        self.energy += 5\n",
    "        if self.energy > 15:\n",
    "            self.is_alive = False\n",
    "            print('Uh oh, you fed it too much. Your tamagotchi died...')\n",
    "        else:\n",
    "            print('Nam nam nam')\n",
    "    \n",
    "    \n",
    "    def play(self):\n",
    "        self.energy -= 1\n",
    "        print('Jump!')\n",
    "        "
   ]
  },
  {
   "cell_type": "markdown",
   "id": "monetary-argument",
   "metadata": {},
   "source": []
  },
  {
   "cell_type": "markdown",
   "id": "shared-suspension",
   "metadata": {},
   "source": [
    "## Why OOP?\n",
    "\n",
    "Let's try to write a simple tamgotchi program based on the tamagotchi class and on simple procedural programming"
   ]
  },
  {
   "cell_type": "code",
   "execution_count": null,
   "id": "broad-japanese",
   "metadata": {},
   "outputs": [],
   "source": []
  },
  {
   "cell_type": "markdown",
   "id": "measured-guest",
   "metadata": {},
   "source": [
    "## The @staticmethod\n"
   ]
  },
  {
   "cell_type": "code",
   "execution_count": 24,
   "id": "broke-interaction",
   "metadata": {},
   "outputs": [],
   "source": [
    "class Animal:\n",
    "    \n",
    "    def __init__(self, species):\n",
    "        self.species = species\n",
    "        self.energy = 5\n",
    "      \n",
    "    \n",
    "    def make_noise(self):\n",
    "        self.energy -= 1\n",
    "        print('Bork bork')\n",
    "        \n",
    "        \n",
    "    def _sleep(self):\n",
    "        self.energy += 3\n",
    "        \n",
    "    @staticmethod\n",
    "    def list_animals():\n",
    "        print('Tiger, lion, seal, cat, panda and bear')"
   ]
  },
  {
   "cell_type": "code",
   "execution_count": 26,
   "id": "romantic-dispute",
   "metadata": {},
   "outputs": [
    {
     "name": "stdout",
     "output_type": "stream",
     "text": [
      "Tiger, lion, seal, cat, panda and bear\n"
     ]
    }
   ],
   "source": [
    "Animal.list_animals()"
   ]
  },
  {
   "cell_type": "code",
   "execution_count": null,
   "id": "desperate-invasion",
   "metadata": {},
   "outputs": [],
   "source": []
  }
 ],
 "metadata": {
  "kernelspec": {
   "display_name": "testenv",
   "language": "python",
   "name": "testenv"
  },
  "language_info": {
   "codemirror_mode": {
    "name": "ipython",
    "version": 3
   },
   "file_extension": ".py",
   "mimetype": "text/x-python",
   "name": "python",
   "nbconvert_exporter": "python",
   "pygments_lexer": "ipython3",
   "version": "3.8.5"
  }
 },
 "nbformat": 4,
 "nbformat_minor": 5
}
