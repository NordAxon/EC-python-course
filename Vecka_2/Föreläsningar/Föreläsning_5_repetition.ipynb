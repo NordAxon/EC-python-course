{
 "cells": [
  {
   "cell_type": "code",
   "execution_count": 1,
   "source": [
    "# What do we do when we are not sure how to solve something?\r\n",
    "# We google! Always, always google. \r\n",
    "\r\n",
    "one_int = 1\r\n",
    "one_float = 1.0\r\n",
    "\r\n",
    "one_list = [1, \"hej\"]\r\n",
    "\r\n",
    "one_dict = {\"hej\": 1, \"då\": 2}\r\n",
    "\r\n",
    "\r\n",
    "\r\n",
    "number_list = [1,2,3,4,5,6,7,8,9]\r\n",
    "\r\n",
    "for number in number_list:\r\n",
    "    number = number + 1\r\n",
    "\r\n",
    "print(number_list)"
   ],
   "outputs": [
    {
     "output_type": "stream",
     "name": "stdout",
     "text": [
      "[1, 2, 3, 4, 5, 6, 7, 8, 9]\n"
     ]
    }
   ],
   "metadata": {}
  },
  {
   "cell_type": "code",
   "execution_count": null,
   "source": [],
   "outputs": [],
   "metadata": {}
  }
 ],
 "metadata": {
  "orig_nbformat": 4,
  "language_info": {
   "name": "python",
   "version": "3.8.10",
   "mimetype": "text/x-python",
   "codemirror_mode": {
    "name": "ipython",
    "version": 3
   },
   "pygments_lexer": "ipython3",
   "nbconvert_exporter": "python",
   "file_extension": ".py"
  },
  "kernelspec": {
   "name": "python3",
   "display_name": "Python 3.8.10 64-bit ('ec-python-course': conda)"
  },
  "interpreter": {
   "hash": "49725ab178c4c102e1441d76205f429a43d78f45cae77ce22318dfb9d7e7bd6b"
  }
 },
 "nbformat": 4,
 "nbformat_minor": 2
}