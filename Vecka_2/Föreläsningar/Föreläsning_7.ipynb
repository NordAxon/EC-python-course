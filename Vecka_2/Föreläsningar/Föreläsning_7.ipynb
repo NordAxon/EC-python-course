{
 "cells": [
  {
   "cell_type": "markdown",
   "source": [
    "# We are moving on to learning about how to open files and read the contents of it!\r\n",
    "## We need to be able to read information from files to use programming efficiently at all - we cannot make up all the data!"
   ],
   "metadata": {}
  },
  {
   "cell_type": "code",
   "execution_count": 18,
   "source": [
    "# Say that we are having a file with 1000 data points and we want to make a \r\n",
    "# simple analysis of this data\r\n",
    "\r\n",
    "with open(\"files/norm_dist.txt\", \"r\") as f:\r\n",
    "    content = f.readlines()\r\n",
    "#print(content)\r\n",
    "\r\n",
    "# Do you see how each integer entry in the file is one string entry now that we read it?\r\n",
    "# and what is \"\\n\"?"
   ],
   "outputs": [],
   "metadata": {}
  },
  {
   "cell_type": "code",
   "execution_count": 19,
   "source": [
    "# we need to create floats from the strings to be able to handle them later on:\r\n",
    "contents_float = []\r\n",
    "for entry in content:\r\n",
    "    entry_float = float(entry) # <---- this creates a float from the stripped string\r\n",
    "    contents_float.append(entry_float) # <------ this appends the converted data point to a new list"
   ],
   "outputs": [],
   "metadata": {}
  },
  {
   "cell_type": "code",
   "execution_count": null,
   "source": [],
   "outputs": [],
   "metadata": {}
  }
 ],
 "metadata": {
  "orig_nbformat": 4,
  "language_info": {
   "name": "python",
   "version": "3.8.10",
   "mimetype": "text/x-python",
   "codemirror_mode": {
    "name": "ipython",
    "version": 3
   },
   "pygments_lexer": "ipython3",
   "nbconvert_exporter": "python",
   "file_extension": ".py"
  },
  "kernelspec": {
   "name": "python3",
   "display_name": "Python 3.8.10 64-bit ('ec-python-course': conda)"
  },
  "interpreter": {
   "hash": "49725ab178c4c102e1441d76205f429a43d78f45cae77ce22318dfb9d7e7bd6b"
  }
 },
 "nbformat": 4,
 "nbformat_minor": 2
}