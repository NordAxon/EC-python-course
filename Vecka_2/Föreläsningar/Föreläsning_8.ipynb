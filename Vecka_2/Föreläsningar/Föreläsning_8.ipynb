{
 "cells": [
  {
   "cell_type": "markdown",
   "source": [
    "# Last time we saw how we could read information from different files (.txt and .jpg)\r\n",
    "# Today we will start with an easier way of handling paths: namely, pathlib!"
   ],
   "metadata": {}
  },
  {
   "cell_type": "code",
   "execution_count": 9,
   "source": [
    "# The way I have shown this to you before is with strings specifying the paths:\r\n",
    "\r\n",
    "path_to_file_str = \"files/COVID-00003b.jpg\"\r\n",
    "path_to_file_str.split(\"/\")[1]\r\n",
    "\r\n",
    "# But the longer path we have, the more complicated it becomes to reference different parts of the path!\r\n",
    "# reading path.split(\"/\")[5] from a path = \"C/home/docs/super-secret/text-files/folder-1/subfolder-5/text-file-1.txt\"\r\n",
    "# is.. hard"
   ],
   "outputs": [
    {
     "output_type": "execute_result",
     "data": {
      "text/plain": [
       "'COVID-00003.jpg'"
      ]
     },
     "metadata": {},
     "execution_count": 9
    }
   ],
   "metadata": {}
  },
  {
   "cell_type": "code",
   "execution_count": 6,
   "source": [
    "# So now, we are introducing the pathlib!\r\n",
    "# Pathlib makes it easier for us to handle long paths in an efficient way,\r\n",
    "# and it is neat to read\r\n",
    "\r\n",
    "from pathlib import Path\r\n",
    "\r\n",
    "path_to_file = Path(\"files/COVID-00003b.jpg\")\r\n",
    "print(path_to_file.parent)\r\n",
    "print(path_to_file.name)\r\n"
   ],
   "outputs": [
    {
     "output_type": "stream",
     "name": "stdout",
     "text": [
      "files\n",
      "COVID-00003.jpg\n"
     ]
    }
   ],
   "metadata": {}
  },
  {
   "cell_type": "code",
   "execution_count": 14,
   "source": [
    "# with pathlib it is easy to create new paths from old paths:\r\n",
    "# maybe i would like to insert another folder to put the file\r\n",
    "\r\n",
    "new_path_to_file = path_to_file.parent / \"unchanged_files\" / path_to_file.name\r\n",
    "print(new_path_to_file)\r\n",
    "\r\n",
    "# if I would do the same using strings, it looks like this:\r\n",
    "new_path_to_file = path_to_file_str.split(\"/\")[0] + \"\\\\unchanged_files\\\\\" + path_to_file_str.split(\"/\")[1]\r\n",
    "print(new_path_to_file)\r\n",
    "# which is a lot less intuitive for someone coming into the code at a later stage!"
   ],
   "outputs": [
    {
     "output_type": "stream",
     "name": "stdout",
     "text": [
      "files\\unchanged_files\\COVID-00003.jpg\n",
      "files\\unchanged_files\\COVID-00003.jpg\n"
     ]
    }
   ],
   "metadata": {}
  },
  {
   "cell_type": "markdown",
   "source": [
    "## The final thing with pathlib is that it is OS independent - it converts paths between OSX and Windows\r\n",
    "\r\n",
    "### Working with relative paths in a project that should be able to be run both on OSX and windows can create problems when using strings, as slashes are used differently. Pathlib fixes that for us!\r\n",
    "\r\n",
    "Read more here: https://docs.python.org/3/library/pathlib.html"
   ],
   "metadata": {}
  },
  {
   "cell_type": "markdown",
   "source": [
    "# Now we move on to the library called shutil, which is nice to have when we want to move files around and don't care specifically about the file contents\r\n",
    "# i.e. we want to move file A from place B to place C, but we do not need to read the contents of file A"
   ],
   "metadata": {}
  },
  {
   "cell_type": "code",
   "execution_count": 26,
   "source": [
    "import shutil\r\n",
    "\r\n",
    "path_to_file = Path(\"files/COVID-00003b.jpg\")\r\n",
    "new_path_to_file = path_to_file.parent / \"unchanged_files\" / path_to_file.name\r\n"
   ],
   "outputs": [],
   "metadata": {}
  },
  {
   "cell_type": "code",
   "execution_count": 27,
   "source": [
    "path_to_file"
   ],
   "outputs": [
    {
     "output_type": "execute_result",
     "data": {
      "text/plain": [
       "WindowsPath('files/COVID-00003b.jpg')"
      ]
     },
     "metadata": {},
     "execution_count": 27
    }
   ],
   "metadata": {}
  },
  {
   "cell_type": "code",
   "execution_count": 28,
   "source": [
    "# Now we have defined the path to the file and what we wish to be the new path\r\n",
    "# We can choose if we would like to move the file or copy it!\r\n",
    "\r\n",
    "shutil.copy(path_to_file, new_path_to_file)"
   ],
   "outputs": [
    {
     "output_type": "error",
     "ename": "FileNotFoundError",
     "evalue": "[Errno 2] No such file or directory: 'files\\\\unchanged_files\\\\COVID-00003b.jpg'",
     "traceback": [
      "\u001b[1;31m---------------------------------------------------------------------------\u001b[0m",
      "\u001b[1;31mFileNotFoundError\u001b[0m                         Traceback (most recent call last)",
      "\u001b[1;32m<ipython-input-28-d0690b6f8079>\u001b[0m in \u001b[0;36m<module>\u001b[1;34m\u001b[0m\n\u001b[0;32m      2\u001b[0m \u001b[1;31m# We can choose if we would like to move the file or copy it!\u001b[0m\u001b[1;33m\u001b[0m\u001b[1;33m\u001b[0m\u001b[1;33m\u001b[0m\u001b[0m\n\u001b[0;32m      3\u001b[0m \u001b[1;33m\u001b[0m\u001b[0m\n\u001b[1;32m----> 4\u001b[1;33m \u001b[0mshutil\u001b[0m\u001b[1;33m.\u001b[0m\u001b[0mcopy\u001b[0m\u001b[1;33m(\u001b[0m\u001b[0mpath_to_file\u001b[0m\u001b[1;33m,\u001b[0m \u001b[0mnew_path_to_file\u001b[0m\u001b[1;33m)\u001b[0m\u001b[1;33m\u001b[0m\u001b[1;33m\u001b[0m\u001b[0m\n\u001b[0m",
      "\u001b[1;32m~\\anaconda3\\envs\\ec-python-course\\lib\\shutil.py\u001b[0m in \u001b[0;36mcopy\u001b[1;34m(src, dst, follow_symlinks)\u001b[0m\n\u001b[0;32m    416\u001b[0m     \u001b[1;32mif\u001b[0m \u001b[0mos\u001b[0m\u001b[1;33m.\u001b[0m\u001b[0mpath\u001b[0m\u001b[1;33m.\u001b[0m\u001b[0misdir\u001b[0m\u001b[1;33m(\u001b[0m\u001b[0mdst\u001b[0m\u001b[1;33m)\u001b[0m\u001b[1;33m:\u001b[0m\u001b[1;33m\u001b[0m\u001b[1;33m\u001b[0m\u001b[0m\n\u001b[0;32m    417\u001b[0m         \u001b[0mdst\u001b[0m \u001b[1;33m=\u001b[0m \u001b[0mos\u001b[0m\u001b[1;33m.\u001b[0m\u001b[0mpath\u001b[0m\u001b[1;33m.\u001b[0m\u001b[0mjoin\u001b[0m\u001b[1;33m(\u001b[0m\u001b[0mdst\u001b[0m\u001b[1;33m,\u001b[0m \u001b[0mos\u001b[0m\u001b[1;33m.\u001b[0m\u001b[0mpath\u001b[0m\u001b[1;33m.\u001b[0m\u001b[0mbasename\u001b[0m\u001b[1;33m(\u001b[0m\u001b[0msrc\u001b[0m\u001b[1;33m)\u001b[0m\u001b[1;33m)\u001b[0m\u001b[1;33m\u001b[0m\u001b[1;33m\u001b[0m\u001b[0m\n\u001b[1;32m--> 418\u001b[1;33m     \u001b[0mcopyfile\u001b[0m\u001b[1;33m(\u001b[0m\u001b[0msrc\u001b[0m\u001b[1;33m,\u001b[0m \u001b[0mdst\u001b[0m\u001b[1;33m,\u001b[0m \u001b[0mfollow_symlinks\u001b[0m\u001b[1;33m=\u001b[0m\u001b[0mfollow_symlinks\u001b[0m\u001b[1;33m)\u001b[0m\u001b[1;33m\u001b[0m\u001b[1;33m\u001b[0m\u001b[0m\n\u001b[0m\u001b[0;32m    419\u001b[0m     \u001b[0mcopymode\u001b[0m\u001b[1;33m(\u001b[0m\u001b[0msrc\u001b[0m\u001b[1;33m,\u001b[0m \u001b[0mdst\u001b[0m\u001b[1;33m,\u001b[0m \u001b[0mfollow_symlinks\u001b[0m\u001b[1;33m=\u001b[0m\u001b[0mfollow_symlinks\u001b[0m\u001b[1;33m)\u001b[0m\u001b[1;33m\u001b[0m\u001b[1;33m\u001b[0m\u001b[0m\n\u001b[0;32m    420\u001b[0m     \u001b[1;32mreturn\u001b[0m \u001b[0mdst\u001b[0m\u001b[1;33m\u001b[0m\u001b[1;33m\u001b[0m\u001b[0m\n",
      "\u001b[1;32m~\\anaconda3\\envs\\ec-python-course\\lib\\shutil.py\u001b[0m in \u001b[0;36mcopyfile\u001b[1;34m(src, dst, follow_symlinks)\u001b[0m\n\u001b[0;32m    262\u001b[0m         \u001b[0mos\u001b[0m\u001b[1;33m.\u001b[0m\u001b[0msymlink\u001b[0m\u001b[1;33m(\u001b[0m\u001b[0mos\u001b[0m\u001b[1;33m.\u001b[0m\u001b[0mreadlink\u001b[0m\u001b[1;33m(\u001b[0m\u001b[0msrc\u001b[0m\u001b[1;33m)\u001b[0m\u001b[1;33m,\u001b[0m \u001b[0mdst\u001b[0m\u001b[1;33m)\u001b[0m\u001b[1;33m\u001b[0m\u001b[1;33m\u001b[0m\u001b[0m\n\u001b[0;32m    263\u001b[0m     \u001b[1;32melse\u001b[0m\u001b[1;33m:\u001b[0m\u001b[1;33m\u001b[0m\u001b[1;33m\u001b[0m\u001b[0m\n\u001b[1;32m--> 264\u001b[1;33m         \u001b[1;32mwith\u001b[0m \u001b[0mopen\u001b[0m\u001b[1;33m(\u001b[0m\u001b[0msrc\u001b[0m\u001b[1;33m,\u001b[0m \u001b[1;34m'rb'\u001b[0m\u001b[1;33m)\u001b[0m \u001b[1;32mas\u001b[0m \u001b[0mfsrc\u001b[0m\u001b[1;33m,\u001b[0m \u001b[0mopen\u001b[0m\u001b[1;33m(\u001b[0m\u001b[0mdst\u001b[0m\u001b[1;33m,\u001b[0m \u001b[1;34m'wb'\u001b[0m\u001b[1;33m)\u001b[0m \u001b[1;32mas\u001b[0m \u001b[0mfdst\u001b[0m\u001b[1;33m:\u001b[0m\u001b[1;33m\u001b[0m\u001b[1;33m\u001b[0m\u001b[0m\n\u001b[0m\u001b[0;32m    265\u001b[0m             \u001b[1;31m# macOS\u001b[0m\u001b[1;33m\u001b[0m\u001b[1;33m\u001b[0m\u001b[1;33m\u001b[0m\u001b[0m\n\u001b[0;32m    266\u001b[0m             \u001b[1;32mif\u001b[0m \u001b[0m_HAS_FCOPYFILE\u001b[0m\u001b[1;33m:\u001b[0m\u001b[1;33m\u001b[0m\u001b[1;33m\u001b[0m\u001b[0m\n",
      "\u001b[1;31mFileNotFoundError\u001b[0m: [Errno 2] No such file or directory: 'files\\\\unchanged_files\\\\COVID-00003b.jpg'"
     ]
    }
   ],
   "metadata": {}
  },
  {
   "cell_type": "code",
   "execution_count": 29,
   "source": [
    "# Hmm that did not work because the folder unchanged_files does not exist yet\r\n",
    "# so we should change our code to something like this:\r\n",
    "\r\n",
    "try:\r\n",
    "    shutil.copy(path_to_file, new_path_to_file)\r\n",
    "except FileNotFoundError:\r\n",
    "    if not new_path_to_file.exists(): #<----- if the new path does not exist\r\n",
    "        new_path_to_file.mkdir(parents=True) #<-- create the new path!\r\n",
    "        shutil.copy(path_to_file, new_path_to_file) # <--- and then copy the file"
   ],
   "outputs": [],
   "metadata": {}
  },
  {
   "cell_type": "markdown",
   "source": [
    "# Now, we will look at one more nice thing, that can improve file management for us:\r\n",
    "# f-strings"
   ],
   "metadata": {}
  },
  {
   "cell_type": "markdown",
   "source": [
    "## F-strings are present from python 3 and onwards, meaning that if you know\r\n",
    "## that you are working with a project that should be backwards compatible, maybe this is not the best\r\n",
    "## otherwise: go ahead!"
   ],
   "metadata": {}
  },
  {
   "cell_type": "code",
   "execution_count": 30,
   "source": [
    "# when we are working with strings where we want to modify only parts of it, \r\n",
    "# a neat way of making that readable is by using f-strings!\r\n",
    "\r\n",
    "# let's start with a simple example where we want to create lots of files and\r\n",
    "# name them using an index at the end.\r\n",
    "\r\n",
    "for i in range(10):\r\n",
    "    file_name = f\"covid_0{i}.txt\"\r\n",
    "    print(file_name)"
   ],
   "outputs": [
    {
     "output_type": "stream",
     "name": "stdout",
     "text": [
      "covid_0{i}.txt\n",
      "covid_0{i}.txt\n",
      "covid_0{i}.txt\n",
      "covid_0{i}.txt\n",
      "covid_0{i}.txt\n",
      "covid_0{i}.txt\n",
      "covid_0{i}.txt\n",
      "covid_0{i}.txt\n",
      "covid_0{i}.txt\n",
      "covid_0{i}.txt\n"
     ]
    }
   ],
   "metadata": {}
  },
  {
   "cell_type": "markdown",
   "source": [],
   "metadata": {}
  }
 ],
 "metadata": {
  "orig_nbformat": 4,
  "language_info": {
   "name": "python",
   "version": "3.8.10",
   "mimetype": "text/x-python",
   "codemirror_mode": {
    "name": "ipython",
    "version": 3
   },
   "pygments_lexer": "ipython3",
   "nbconvert_exporter": "python",
   "file_extension": ".py"
  },
  "kernelspec": {
   "name": "python3",
   "display_name": "Python 3.8.10 64-bit ('ec-python-course': conda)"
  },
  "interpreter": {
   "hash": "49725ab178c4c102e1441d76205f429a43d78f45cae77ce22318dfb9d7e7bd6b"
  }
 },
 "nbformat": 4,
 "nbformat_minor": 2
}